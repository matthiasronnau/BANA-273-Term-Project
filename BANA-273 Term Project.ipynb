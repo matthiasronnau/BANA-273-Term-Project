{
 "cells": [
  {
   "cell_type": "markdown",
   "metadata": {},
   "source": [
    "# BANA-273 Term Project\n",
    "### Group 22: William Leonard, Susan Mikhail, Matthias Ronnau, Lokesh Nandni Sood, Parsa Tahmasebi"
   ]
  },
  {
   "cell_type": "markdown",
   "metadata": {},
   "source": [
    "## Import Packages and Read in the Data"
   ]
  },
  {
   "cell_type": "code",
   "execution_count": 1,
   "metadata": {},
   "outputs": [],
   "source": [
    "#Import packages\n",
    "import numpy as np\n",
    "import pandas as pd\n",
    "import matplotlib.pyplot as plt\n",
    "import seaborn as sns\n",
    "import sklearn\n",
    "from sklearn.model_selection import train_test_split\n",
    "from sklearn.model_selection import cross_val_score\n",
    "from sklearn.metrics import accuracy_score\n",
    "from sklearn.naive_bayes import BernoulliNB\n",
    "from sklearn.ensemble import RandomForestClassifier\n",
    "from sklearn import preprocessing\n",
    "from sklearn.neighbors import KNeighborsClassifier\n",
    "from sklearn.feature_selection import mutual_info_classif"
   ]
  },
  {
   "cell_type": "code",
   "execution_count": 2,
   "metadata": {},
   "outputs": [
    {
     "data": {
      "text/html": [
       "<div>\n",
       "<style scoped>\n",
       "    .dataframe tbody tr th:only-of-type {\n",
       "        vertical-align: middle;\n",
       "    }\n",
       "\n",
       "    .dataframe tbody tr th {\n",
       "        vertical-align: top;\n",
       "    }\n",
       "\n",
       "    .dataframe thead th {\n",
       "        text-align: right;\n",
       "    }\n",
       "</style>\n",
       "<table border=\"1\" class=\"dataframe\">\n",
       "  <thead>\n",
       "    <tr style=\"text-align: right;\">\n",
       "      <th></th>\n",
       "      <th>url</th>\n",
       "      <th>timedelta</th>\n",
       "      <th>n_tokens_title</th>\n",
       "      <th>n_tokens_content</th>\n",
       "      <th>n_unique_tokens</th>\n",
       "      <th>n_non_stop_words</th>\n",
       "      <th>n_non_stop_unique_tokens</th>\n",
       "      <th>num_hrefs</th>\n",
       "      <th>num_self_hrefs</th>\n",
       "      <th>num_imgs</th>\n",
       "      <th>...</th>\n",
       "      <th>min_positive_polarity</th>\n",
       "      <th>max_positive_polarity</th>\n",
       "      <th>avg_negative_polarity</th>\n",
       "      <th>min_negative_polarity</th>\n",
       "      <th>max_negative_polarity</th>\n",
       "      <th>title_subjectivity</th>\n",
       "      <th>title_sentiment_polarity</th>\n",
       "      <th>abs_title_subjectivity</th>\n",
       "      <th>abs_title_sentiment_polarity</th>\n",
       "      <th>shares</th>\n",
       "    </tr>\n",
       "  </thead>\n",
       "  <tbody>\n",
       "    <tr>\n",
       "      <th>0</th>\n",
       "      <td>http://mashable.com/2013/01/07/amazon-instant-...</td>\n",
       "      <td>731.0</td>\n",
       "      <td>12.0</td>\n",
       "      <td>219.0</td>\n",
       "      <td>0.663594</td>\n",
       "      <td>1.0</td>\n",
       "      <td>0.815385</td>\n",
       "      <td>4.0</td>\n",
       "      <td>2.0</td>\n",
       "      <td>1.0</td>\n",
       "      <td>...</td>\n",
       "      <td>0.100000</td>\n",
       "      <td>0.7</td>\n",
       "      <td>-0.350000</td>\n",
       "      <td>-0.600</td>\n",
       "      <td>-0.200000</td>\n",
       "      <td>0.500000</td>\n",
       "      <td>-0.187500</td>\n",
       "      <td>0.000000</td>\n",
       "      <td>0.187500</td>\n",
       "      <td>593</td>\n",
       "    </tr>\n",
       "    <tr>\n",
       "      <th>1</th>\n",
       "      <td>http://mashable.com/2013/01/07/ap-samsung-spon...</td>\n",
       "      <td>731.0</td>\n",
       "      <td>9.0</td>\n",
       "      <td>255.0</td>\n",
       "      <td>0.604743</td>\n",
       "      <td>1.0</td>\n",
       "      <td>0.791946</td>\n",
       "      <td>3.0</td>\n",
       "      <td>1.0</td>\n",
       "      <td>1.0</td>\n",
       "      <td>...</td>\n",
       "      <td>0.033333</td>\n",
       "      <td>0.7</td>\n",
       "      <td>-0.118750</td>\n",
       "      <td>-0.125</td>\n",
       "      <td>-0.100000</td>\n",
       "      <td>0.000000</td>\n",
       "      <td>0.000000</td>\n",
       "      <td>0.500000</td>\n",
       "      <td>0.000000</td>\n",
       "      <td>711</td>\n",
       "    </tr>\n",
       "    <tr>\n",
       "      <th>2</th>\n",
       "      <td>http://mashable.com/2013/01/07/apple-40-billio...</td>\n",
       "      <td>731.0</td>\n",
       "      <td>9.0</td>\n",
       "      <td>211.0</td>\n",
       "      <td>0.575130</td>\n",
       "      <td>1.0</td>\n",
       "      <td>0.663866</td>\n",
       "      <td>3.0</td>\n",
       "      <td>1.0</td>\n",
       "      <td>1.0</td>\n",
       "      <td>...</td>\n",
       "      <td>0.100000</td>\n",
       "      <td>1.0</td>\n",
       "      <td>-0.466667</td>\n",
       "      <td>-0.800</td>\n",
       "      <td>-0.133333</td>\n",
       "      <td>0.000000</td>\n",
       "      <td>0.000000</td>\n",
       "      <td>0.500000</td>\n",
       "      <td>0.000000</td>\n",
       "      <td>1500</td>\n",
       "    </tr>\n",
       "    <tr>\n",
       "      <th>3</th>\n",
       "      <td>http://mashable.com/2013/01/07/astronaut-notre...</td>\n",
       "      <td>731.0</td>\n",
       "      <td>9.0</td>\n",
       "      <td>531.0</td>\n",
       "      <td>0.503788</td>\n",
       "      <td>1.0</td>\n",
       "      <td>0.665635</td>\n",
       "      <td>9.0</td>\n",
       "      <td>0.0</td>\n",
       "      <td>1.0</td>\n",
       "      <td>...</td>\n",
       "      <td>0.136364</td>\n",
       "      <td>0.8</td>\n",
       "      <td>-0.369697</td>\n",
       "      <td>-0.600</td>\n",
       "      <td>-0.166667</td>\n",
       "      <td>0.000000</td>\n",
       "      <td>0.000000</td>\n",
       "      <td>0.500000</td>\n",
       "      <td>0.000000</td>\n",
       "      <td>1200</td>\n",
       "    </tr>\n",
       "    <tr>\n",
       "      <th>4</th>\n",
       "      <td>http://mashable.com/2013/01/07/att-u-verse-apps/</td>\n",
       "      <td>731.0</td>\n",
       "      <td>13.0</td>\n",
       "      <td>1072.0</td>\n",
       "      <td>0.415646</td>\n",
       "      <td>1.0</td>\n",
       "      <td>0.540890</td>\n",
       "      <td>19.0</td>\n",
       "      <td>19.0</td>\n",
       "      <td>20.0</td>\n",
       "      <td>...</td>\n",
       "      <td>0.033333</td>\n",
       "      <td>1.0</td>\n",
       "      <td>-0.220192</td>\n",
       "      <td>-0.500</td>\n",
       "      <td>-0.050000</td>\n",
       "      <td>0.454545</td>\n",
       "      <td>0.136364</td>\n",
       "      <td>0.045455</td>\n",
       "      <td>0.136364</td>\n",
       "      <td>505</td>\n",
       "    </tr>\n",
       "  </tbody>\n",
       "</table>\n",
       "<p>5 rows × 61 columns</p>\n",
       "</div>"
      ],
      "text/plain": [
       "                                                 url   timedelta  \\\n",
       "0  http://mashable.com/2013/01/07/amazon-instant-...       731.0   \n",
       "1  http://mashable.com/2013/01/07/ap-samsung-spon...       731.0   \n",
       "2  http://mashable.com/2013/01/07/apple-40-billio...       731.0   \n",
       "3  http://mashable.com/2013/01/07/astronaut-notre...       731.0   \n",
       "4   http://mashable.com/2013/01/07/att-u-verse-apps/       731.0   \n",
       "\n",
       "    n_tokens_title   n_tokens_content   n_unique_tokens   n_non_stop_words  \\\n",
       "0             12.0              219.0          0.663594                1.0   \n",
       "1              9.0              255.0          0.604743                1.0   \n",
       "2              9.0              211.0          0.575130                1.0   \n",
       "3              9.0              531.0          0.503788                1.0   \n",
       "4             13.0             1072.0          0.415646                1.0   \n",
       "\n",
       "    n_non_stop_unique_tokens   num_hrefs   num_self_hrefs   num_imgs  ...  \\\n",
       "0                   0.815385         4.0              2.0        1.0  ...   \n",
       "1                   0.791946         3.0              1.0        1.0  ...   \n",
       "2                   0.663866         3.0              1.0        1.0  ...   \n",
       "3                   0.665635         9.0              0.0        1.0  ...   \n",
       "4                   0.540890        19.0             19.0       20.0  ...   \n",
       "\n",
       "    min_positive_polarity   max_positive_polarity   avg_negative_polarity  \\\n",
       "0                0.100000                     0.7               -0.350000   \n",
       "1                0.033333                     0.7               -0.118750   \n",
       "2                0.100000                     1.0               -0.466667   \n",
       "3                0.136364                     0.8               -0.369697   \n",
       "4                0.033333                     1.0               -0.220192   \n",
       "\n",
       "    min_negative_polarity   max_negative_polarity   title_subjectivity  \\\n",
       "0                  -0.600               -0.200000             0.500000   \n",
       "1                  -0.125               -0.100000             0.000000   \n",
       "2                  -0.800               -0.133333             0.000000   \n",
       "3                  -0.600               -0.166667             0.000000   \n",
       "4                  -0.500               -0.050000             0.454545   \n",
       "\n",
       "    title_sentiment_polarity   abs_title_subjectivity  \\\n",
       "0                  -0.187500                 0.000000   \n",
       "1                   0.000000                 0.500000   \n",
       "2                   0.000000                 0.500000   \n",
       "3                   0.000000                 0.500000   \n",
       "4                   0.136364                 0.045455   \n",
       "\n",
       "    abs_title_sentiment_polarity   shares  \n",
       "0                       0.187500      593  \n",
       "1                       0.000000      711  \n",
       "2                       0.000000     1500  \n",
       "3                       0.000000     1200  \n",
       "4                       0.136364      505  \n",
       "\n",
       "[5 rows x 61 columns]"
      ]
     },
     "execution_count": 2,
     "metadata": {},
     "output_type": "execute_result"
    }
   ],
   "source": [
    "#Read the data in and take a look at it\n",
    "data = pd.read_csv(\"OnlineNewsPopularity.csv\")\n",
    "\n",
    "data.head()"
   ]
  },
  {
   "cell_type": "markdown",
   "metadata": {},
   "source": [
    "## Exploratory Data Analysis and Data Cleaning"
   ]
  },
  {
   "cell_type": "code",
   "execution_count": 3,
   "metadata": {},
   "outputs": [
    {
     "data": {
      "text/plain": [
       "(39644, 61)"
      ]
     },
     "execution_count": 3,
     "metadata": {},
     "output_type": "execute_result"
    }
   ],
   "source": [
    "#Check the number of rows and column of the data\n",
    "data.shape"
   ]
  },
  {
   "cell_type": "code",
   "execution_count": 4,
   "metadata": {},
   "outputs": [
    {
     "name": "stdout",
     "output_type": "stream",
     "text": [
      "<class 'pandas.core.frame.DataFrame'>\n",
      "RangeIndex: 39644 entries, 0 to 39643\n",
      "Data columns (total 61 columns):\n",
      " #   Column                          Non-Null Count  Dtype  \n",
      "---  ------                          --------------  -----  \n",
      " 0   url                             39644 non-null  object \n",
      " 1    timedelta                      39644 non-null  float64\n",
      " 2    n_tokens_title                 39644 non-null  float64\n",
      " 3    n_tokens_content               39644 non-null  float64\n",
      " 4    n_unique_tokens                39644 non-null  float64\n",
      " 5    n_non_stop_words               39644 non-null  float64\n",
      " 6    n_non_stop_unique_tokens       39644 non-null  float64\n",
      " 7    num_hrefs                      39644 non-null  float64\n",
      " 8    num_self_hrefs                 39644 non-null  float64\n",
      " 9    num_imgs                       39644 non-null  float64\n",
      " 10   num_videos                     39644 non-null  float64\n",
      " 11   average_token_length           39644 non-null  float64\n",
      " 12   num_keywords                   39644 non-null  float64\n",
      " 13   data_channel_is_lifestyle      39644 non-null  float64\n",
      " 14   data_channel_is_entertainment  39644 non-null  float64\n",
      " 15   data_channel_is_bus            39644 non-null  float64\n",
      " 16   data_channel_is_socmed         39644 non-null  float64\n",
      " 17   data_channel_is_tech           39644 non-null  float64\n",
      " 18   data_channel_is_world          39644 non-null  float64\n",
      " 19   kw_min_min                     39644 non-null  float64\n",
      " 20   kw_max_min                     39644 non-null  float64\n",
      " 21   kw_avg_min                     39644 non-null  float64\n",
      " 22   kw_min_max                     39644 non-null  float64\n",
      " 23   kw_max_max                     39644 non-null  float64\n",
      " 24   kw_avg_max                     39644 non-null  float64\n",
      " 25   kw_min_avg                     39644 non-null  float64\n",
      " 26   kw_max_avg                     39644 non-null  float64\n",
      " 27   kw_avg_avg                     39644 non-null  float64\n",
      " 28   self_reference_min_shares      39644 non-null  float64\n",
      " 29   self_reference_max_shares      39644 non-null  float64\n",
      " 30   self_reference_avg_sharess     39644 non-null  float64\n",
      " 31   weekday_is_monday              39644 non-null  float64\n",
      " 32   weekday_is_tuesday             39644 non-null  float64\n",
      " 33   weekday_is_wednesday           39644 non-null  float64\n",
      " 34   weekday_is_thursday            39644 non-null  float64\n",
      " 35   weekday_is_friday              39644 non-null  float64\n",
      " 36   weekday_is_saturday            39644 non-null  float64\n",
      " 37   weekday_is_sunday              39644 non-null  float64\n",
      " 38   is_weekend                     39644 non-null  float64\n",
      " 39   LDA_00                         39644 non-null  float64\n",
      " 40   LDA_01                         39644 non-null  float64\n",
      " 41   LDA_02                         39644 non-null  float64\n",
      " 42   LDA_03                         39644 non-null  float64\n",
      " 43   LDA_04                         39644 non-null  float64\n",
      " 44   global_subjectivity            39644 non-null  float64\n",
      " 45   global_sentiment_polarity      39644 non-null  float64\n",
      " 46   global_rate_positive_words     39644 non-null  float64\n",
      " 47   global_rate_negative_words     39644 non-null  float64\n",
      " 48   rate_positive_words            39644 non-null  float64\n",
      " 49   rate_negative_words            39644 non-null  float64\n",
      " 50   avg_positive_polarity          39644 non-null  float64\n",
      " 51   min_positive_polarity          39644 non-null  float64\n",
      " 52   max_positive_polarity          39644 non-null  float64\n",
      " 53   avg_negative_polarity          39644 non-null  float64\n",
      " 54   min_negative_polarity          39644 non-null  float64\n",
      " 55   max_negative_polarity          39644 non-null  float64\n",
      " 56   title_subjectivity             39644 non-null  float64\n",
      " 57   title_sentiment_polarity       39644 non-null  float64\n",
      " 58   abs_title_subjectivity         39644 non-null  float64\n",
      " 59   abs_title_sentiment_polarity   39644 non-null  float64\n",
      " 60   shares                         39644 non-null  int64  \n",
      "dtypes: float64(59), int64(1), object(1)\n",
      "memory usage: 18.5+ MB\n"
     ]
    }
   ],
   "source": [
    "data.info()"
   ]
  },
  {
   "cell_type": "markdown",
   "metadata": {},
   "source": [
    "There does not appear to be missing values in the dataset, which is great."
   ]
  },
  {
   "cell_type": "code",
   "execution_count": 5,
   "metadata": {},
   "outputs": [
    {
     "data": {
      "text/html": [
       "<div>\n",
       "<style scoped>\n",
       "    .dataframe tbody tr th:only-of-type {\n",
       "        vertical-align: middle;\n",
       "    }\n",
       "\n",
       "    .dataframe tbody tr th {\n",
       "        vertical-align: top;\n",
       "    }\n",
       "\n",
       "    .dataframe thead th {\n",
       "        text-align: right;\n",
       "    }\n",
       "</style>\n",
       "<table border=\"1\" class=\"dataframe\">\n",
       "  <thead>\n",
       "    <tr style=\"text-align: right;\">\n",
       "      <th></th>\n",
       "      <th>timedelta</th>\n",
       "      <th>n_tokens_title</th>\n",
       "      <th>n_tokens_content</th>\n",
       "      <th>n_unique_tokens</th>\n",
       "      <th>n_non_stop_words</th>\n",
       "      <th>n_non_stop_unique_tokens</th>\n",
       "      <th>num_hrefs</th>\n",
       "      <th>num_self_hrefs</th>\n",
       "      <th>num_imgs</th>\n",
       "      <th>num_videos</th>\n",
       "      <th>...</th>\n",
       "      <th>min_positive_polarity</th>\n",
       "      <th>max_positive_polarity</th>\n",
       "      <th>avg_negative_polarity</th>\n",
       "      <th>min_negative_polarity</th>\n",
       "      <th>max_negative_polarity</th>\n",
       "      <th>title_subjectivity</th>\n",
       "      <th>title_sentiment_polarity</th>\n",
       "      <th>abs_title_subjectivity</th>\n",
       "      <th>abs_title_sentiment_polarity</th>\n",
       "      <th>shares</th>\n",
       "    </tr>\n",
       "  </thead>\n",
       "  <tbody>\n",
       "    <tr>\n",
       "      <th>count</th>\n",
       "      <td>39644.000000</td>\n",
       "      <td>39644.000000</td>\n",
       "      <td>39644.000000</td>\n",
       "      <td>39644.000000</td>\n",
       "      <td>39644.000000</td>\n",
       "      <td>39644.000000</td>\n",
       "      <td>39644.000000</td>\n",
       "      <td>39644.000000</td>\n",
       "      <td>39644.000000</td>\n",
       "      <td>39644.000000</td>\n",
       "      <td>...</td>\n",
       "      <td>39644.000000</td>\n",
       "      <td>39644.000000</td>\n",
       "      <td>39644.000000</td>\n",
       "      <td>39644.000000</td>\n",
       "      <td>39644.000000</td>\n",
       "      <td>39644.000000</td>\n",
       "      <td>39644.000000</td>\n",
       "      <td>39644.000000</td>\n",
       "      <td>39644.000000</td>\n",
       "      <td>39644.000000</td>\n",
       "    </tr>\n",
       "    <tr>\n",
       "      <th>mean</th>\n",
       "      <td>354.530471</td>\n",
       "      <td>10.398749</td>\n",
       "      <td>546.514731</td>\n",
       "      <td>0.548216</td>\n",
       "      <td>0.996469</td>\n",
       "      <td>0.689175</td>\n",
       "      <td>10.883690</td>\n",
       "      <td>3.293638</td>\n",
       "      <td>4.544143</td>\n",
       "      <td>1.249874</td>\n",
       "      <td>...</td>\n",
       "      <td>0.095446</td>\n",
       "      <td>0.756728</td>\n",
       "      <td>-0.259524</td>\n",
       "      <td>-0.521944</td>\n",
       "      <td>-0.107500</td>\n",
       "      <td>0.282353</td>\n",
       "      <td>0.071425</td>\n",
       "      <td>0.341843</td>\n",
       "      <td>0.156064</td>\n",
       "      <td>3395.380184</td>\n",
       "    </tr>\n",
       "    <tr>\n",
       "      <th>std</th>\n",
       "      <td>214.163767</td>\n",
       "      <td>2.114037</td>\n",
       "      <td>471.107508</td>\n",
       "      <td>3.520708</td>\n",
       "      <td>5.231231</td>\n",
       "      <td>3.264816</td>\n",
       "      <td>11.332017</td>\n",
       "      <td>3.855141</td>\n",
       "      <td>8.309434</td>\n",
       "      <td>4.107855</td>\n",
       "      <td>...</td>\n",
       "      <td>0.071315</td>\n",
       "      <td>0.247786</td>\n",
       "      <td>0.127726</td>\n",
       "      <td>0.290290</td>\n",
       "      <td>0.095373</td>\n",
       "      <td>0.324247</td>\n",
       "      <td>0.265450</td>\n",
       "      <td>0.188791</td>\n",
       "      <td>0.226294</td>\n",
       "      <td>11626.950749</td>\n",
       "    </tr>\n",
       "    <tr>\n",
       "      <th>min</th>\n",
       "      <td>8.000000</td>\n",
       "      <td>2.000000</td>\n",
       "      <td>0.000000</td>\n",
       "      <td>0.000000</td>\n",
       "      <td>0.000000</td>\n",
       "      <td>0.000000</td>\n",
       "      <td>0.000000</td>\n",
       "      <td>0.000000</td>\n",
       "      <td>0.000000</td>\n",
       "      <td>0.000000</td>\n",
       "      <td>...</td>\n",
       "      <td>0.000000</td>\n",
       "      <td>0.000000</td>\n",
       "      <td>-1.000000</td>\n",
       "      <td>-1.000000</td>\n",
       "      <td>-1.000000</td>\n",
       "      <td>0.000000</td>\n",
       "      <td>-1.000000</td>\n",
       "      <td>0.000000</td>\n",
       "      <td>0.000000</td>\n",
       "      <td>1.000000</td>\n",
       "    </tr>\n",
       "    <tr>\n",
       "      <th>25%</th>\n",
       "      <td>164.000000</td>\n",
       "      <td>9.000000</td>\n",
       "      <td>246.000000</td>\n",
       "      <td>0.470870</td>\n",
       "      <td>1.000000</td>\n",
       "      <td>0.625739</td>\n",
       "      <td>4.000000</td>\n",
       "      <td>1.000000</td>\n",
       "      <td>1.000000</td>\n",
       "      <td>0.000000</td>\n",
       "      <td>...</td>\n",
       "      <td>0.050000</td>\n",
       "      <td>0.600000</td>\n",
       "      <td>-0.328383</td>\n",
       "      <td>-0.700000</td>\n",
       "      <td>-0.125000</td>\n",
       "      <td>0.000000</td>\n",
       "      <td>0.000000</td>\n",
       "      <td>0.166667</td>\n",
       "      <td>0.000000</td>\n",
       "      <td>946.000000</td>\n",
       "    </tr>\n",
       "    <tr>\n",
       "      <th>50%</th>\n",
       "      <td>339.000000</td>\n",
       "      <td>10.000000</td>\n",
       "      <td>409.000000</td>\n",
       "      <td>0.539226</td>\n",
       "      <td>1.000000</td>\n",
       "      <td>0.690476</td>\n",
       "      <td>8.000000</td>\n",
       "      <td>3.000000</td>\n",
       "      <td>1.000000</td>\n",
       "      <td>0.000000</td>\n",
       "      <td>...</td>\n",
       "      <td>0.100000</td>\n",
       "      <td>0.800000</td>\n",
       "      <td>-0.253333</td>\n",
       "      <td>-0.500000</td>\n",
       "      <td>-0.100000</td>\n",
       "      <td>0.150000</td>\n",
       "      <td>0.000000</td>\n",
       "      <td>0.500000</td>\n",
       "      <td>0.000000</td>\n",
       "      <td>1400.000000</td>\n",
       "    </tr>\n",
       "    <tr>\n",
       "      <th>75%</th>\n",
       "      <td>542.000000</td>\n",
       "      <td>12.000000</td>\n",
       "      <td>716.000000</td>\n",
       "      <td>0.608696</td>\n",
       "      <td>1.000000</td>\n",
       "      <td>0.754630</td>\n",
       "      <td>14.000000</td>\n",
       "      <td>4.000000</td>\n",
       "      <td>4.000000</td>\n",
       "      <td>1.000000</td>\n",
       "      <td>...</td>\n",
       "      <td>0.100000</td>\n",
       "      <td>1.000000</td>\n",
       "      <td>-0.186905</td>\n",
       "      <td>-0.300000</td>\n",
       "      <td>-0.050000</td>\n",
       "      <td>0.500000</td>\n",
       "      <td>0.150000</td>\n",
       "      <td>0.500000</td>\n",
       "      <td>0.250000</td>\n",
       "      <td>2800.000000</td>\n",
       "    </tr>\n",
       "    <tr>\n",
       "      <th>max</th>\n",
       "      <td>731.000000</td>\n",
       "      <td>23.000000</td>\n",
       "      <td>8474.000000</td>\n",
       "      <td>701.000000</td>\n",
       "      <td>1042.000000</td>\n",
       "      <td>650.000000</td>\n",
       "      <td>304.000000</td>\n",
       "      <td>116.000000</td>\n",
       "      <td>128.000000</td>\n",
       "      <td>91.000000</td>\n",
       "      <td>...</td>\n",
       "      <td>1.000000</td>\n",
       "      <td>1.000000</td>\n",
       "      <td>0.000000</td>\n",
       "      <td>0.000000</td>\n",
       "      <td>0.000000</td>\n",
       "      <td>1.000000</td>\n",
       "      <td>1.000000</td>\n",
       "      <td>0.500000</td>\n",
       "      <td>1.000000</td>\n",
       "      <td>843300.000000</td>\n",
       "    </tr>\n",
       "  </tbody>\n",
       "</table>\n",
       "<p>8 rows × 60 columns</p>\n",
       "</div>"
      ],
      "text/plain": [
       "          timedelta   n_tokens_title   n_tokens_content   n_unique_tokens  \\\n",
       "count  39644.000000     39644.000000       39644.000000      39644.000000   \n",
       "mean     354.530471        10.398749         546.514731          0.548216   \n",
       "std      214.163767         2.114037         471.107508          3.520708   \n",
       "min        8.000000         2.000000           0.000000          0.000000   \n",
       "25%      164.000000         9.000000         246.000000          0.470870   \n",
       "50%      339.000000        10.000000         409.000000          0.539226   \n",
       "75%      542.000000        12.000000         716.000000          0.608696   \n",
       "max      731.000000        23.000000        8474.000000        701.000000   \n",
       "\n",
       "        n_non_stop_words   n_non_stop_unique_tokens     num_hrefs  \\\n",
       "count       39644.000000               39644.000000  39644.000000   \n",
       "mean            0.996469                   0.689175     10.883690   \n",
       "std             5.231231                   3.264816     11.332017   \n",
       "min             0.000000                   0.000000      0.000000   \n",
       "25%             1.000000                   0.625739      4.000000   \n",
       "50%             1.000000                   0.690476      8.000000   \n",
       "75%             1.000000                   0.754630     14.000000   \n",
       "max          1042.000000                 650.000000    304.000000   \n",
       "\n",
       "        num_self_hrefs      num_imgs    num_videos  ...  \\\n",
       "count     39644.000000  39644.000000  39644.000000  ...   \n",
       "mean          3.293638      4.544143      1.249874  ...   \n",
       "std           3.855141      8.309434      4.107855  ...   \n",
       "min           0.000000      0.000000      0.000000  ...   \n",
       "25%           1.000000      1.000000      0.000000  ...   \n",
       "50%           3.000000      1.000000      0.000000  ...   \n",
       "75%           4.000000      4.000000      1.000000  ...   \n",
       "max         116.000000    128.000000     91.000000  ...   \n",
       "\n",
       "        min_positive_polarity   max_positive_polarity   avg_negative_polarity  \\\n",
       "count            39644.000000            39644.000000            39644.000000   \n",
       "mean                 0.095446                0.756728               -0.259524   \n",
       "std                  0.071315                0.247786                0.127726   \n",
       "min                  0.000000                0.000000               -1.000000   \n",
       "25%                  0.050000                0.600000               -0.328383   \n",
       "50%                  0.100000                0.800000               -0.253333   \n",
       "75%                  0.100000                1.000000               -0.186905   \n",
       "max                  1.000000                1.000000                0.000000   \n",
       "\n",
       "        min_negative_polarity   max_negative_polarity   title_subjectivity  \\\n",
       "count            39644.000000            39644.000000         39644.000000   \n",
       "mean                -0.521944               -0.107500             0.282353   \n",
       "std                  0.290290                0.095373             0.324247   \n",
       "min                 -1.000000               -1.000000             0.000000   \n",
       "25%                 -0.700000               -0.125000             0.000000   \n",
       "50%                 -0.500000               -0.100000             0.150000   \n",
       "75%                 -0.300000               -0.050000             0.500000   \n",
       "max                  0.000000                0.000000             1.000000   \n",
       "\n",
       "        title_sentiment_polarity   abs_title_subjectivity  \\\n",
       "count               39644.000000             39644.000000   \n",
       "mean                    0.071425                 0.341843   \n",
       "std                     0.265450                 0.188791   \n",
       "min                    -1.000000                 0.000000   \n",
       "25%                     0.000000                 0.166667   \n",
       "50%                     0.000000                 0.500000   \n",
       "75%                     0.150000                 0.500000   \n",
       "max                     1.000000                 0.500000   \n",
       "\n",
       "        abs_title_sentiment_polarity         shares  \n",
       "count                   39644.000000   39644.000000  \n",
       "mean                        0.156064    3395.380184  \n",
       "std                         0.226294   11626.950749  \n",
       "min                         0.000000       1.000000  \n",
       "25%                         0.000000     946.000000  \n",
       "50%                         0.000000    1400.000000  \n",
       "75%                         0.250000    2800.000000  \n",
       "max                         1.000000  843300.000000  \n",
       "\n",
       "[8 rows x 60 columns]"
      ]
     },
     "execution_count": 5,
     "metadata": {},
     "output_type": "execute_result"
    }
   ],
   "source": [
    "data.describe()"
   ]
  },
  {
   "cell_type": "code",
   "execution_count": 6,
   "metadata": {},
   "outputs": [],
   "source": [
    "#The columns appear to have a space at the beginning of the name, let's remove that\n",
    "data.columns = data.columns.str.replace(\" \", \"\")"
   ]
  },
  {
   "cell_type": "code",
   "execution_count": 7,
   "metadata": {},
   "outputs": [],
   "source": [
    "#Remove the two descriptive variables which are not used for prediction\n",
    "data.drop([\"url\", \"timedelta\"], axis = 1, inplace = True)"
   ]
  },
  {
   "cell_type": "code",
   "execution_count": 8,
   "metadata": {},
   "outputs": [
    {
     "data": {
      "text/plain": [
       "Text(0.5, 1.0, 'Heatmap Showing the Correlation Between Variables')"
      ]
     },
     "execution_count": 8,
     "metadata": {},
     "output_type": "execute_result"
    },
    {
     "data": {
      "image/png": "[encoded data removed]",
      "text/plain": [
       "<Figure size 1080x1080 with 2 Axes>"
      ]
     },
     "metadata": {
      "needs_background": "light"
     },
     "output_type": "display_data"
    }
   ],
   "source": [
    "#Heatmap showing the correlation between variables\n",
    "data_correlation = data.corr()\n",
    "plt.figure(figsize = (15, 15))\n",
    "mask = np.triu(np.ones_like(data_correlation, dtype=bool))\n",
    "sns.heatmap(data_correlation, mask = mask, cmap = \"Blues\")\n",
    "plt.title(\"Heatmap Showing the Correlation Between Variables\")"
   ]
  },
  {
   "cell_type": "markdown",
   "metadata": {},
   "source": [
    "The minimum value for the column \"n_tokens_content\" is 0. This column represents the number of words in the document. It does not benefit our analysis to include data on articles with no content, so we will remove them."
   ]
  },
  {
   "cell_type": "code",
   "execution_count": 9,
   "metadata": {},
   "outputs": [
    {
     "data": {
      "text/plain": [
       "(array([3.9563e+04, 6.0000e+01, 1.1000e+01, 4.0000e+00, 0.0000e+00,\n",
       "        1.0000e+00, 0.0000e+00, 3.0000e+00, 1.0000e+00, 1.0000e+00]),\n",
       " array([1.000000e+00, 8.433090e+04, 1.686608e+05, 2.529907e+05,\n",
       "        3.373206e+05, 4.216505e+05, 5.059804e+05, 5.903103e+05,\n",
       "        6.746402e+05, 7.589701e+05, 8.433000e+05]),\n",
       " <BarContainer object of 10 artists>)"
      ]
     },
     "execution_count": 9,
     "metadata": {},
     "output_type": "execute_result"
    },
    {
     "data": {
      "image/png": "[encoded data removed]",
      "text/plain": [
       "<Figure size 432x288 with 1 Axes>"
      ]
     },
     "metadata": {
      "needs_background": "light"
     },
     "output_type": "display_data"
    }
   ],
   "source": [
    "plt.hist(data[\"shares\"])"
   ]
  },
  {
   "cell_type": "code",
   "execution_count": 10,
   "metadata": {},
   "outputs": [
    {
     "data": {
      "text/html": [
       "<div>\n",
       "<style scoped>\n",
       "    .dataframe tbody tr th:only-of-type {\n",
       "        vertical-align: middle;\n",
       "    }\n",
       "\n",
       "    .dataframe tbody tr th {\n",
       "        vertical-align: top;\n",
       "    }\n",
       "\n",
       "    .dataframe thead th {\n",
       "        text-align: right;\n",
       "    }\n",
       "</style>\n",
       "<table border=\"1\" class=\"dataframe\">\n",
       "  <thead>\n",
       "    <tr style=\"text-align: right;\">\n",
       "      <th></th>\n",
       "      <th>n_tokens_title</th>\n",
       "      <th>n_tokens_content</th>\n",
       "      <th>n_unique_tokens</th>\n",
       "      <th>n_non_stop_words</th>\n",
       "      <th>n_non_stop_unique_tokens</th>\n",
       "      <th>num_hrefs</th>\n",
       "      <th>num_self_hrefs</th>\n",
       "      <th>num_imgs</th>\n",
       "      <th>num_videos</th>\n",
       "      <th>average_token_length</th>\n",
       "      <th>...</th>\n",
       "      <th>min_positive_polarity</th>\n",
       "      <th>max_positive_polarity</th>\n",
       "      <th>avg_negative_polarity</th>\n",
       "      <th>min_negative_polarity</th>\n",
       "      <th>max_negative_polarity</th>\n",
       "      <th>title_subjectivity</th>\n",
       "      <th>title_sentiment_polarity</th>\n",
       "      <th>abs_title_subjectivity</th>\n",
       "      <th>abs_title_sentiment_polarity</th>\n",
       "      <th>shares</th>\n",
       "    </tr>\n",
       "  </thead>\n",
       "  <tbody>\n",
       "    <tr>\n",
       "      <th>1138</th>\n",
       "      <td>9.0</td>\n",
       "      <td>3027.0</td>\n",
       "      <td>0.299265</td>\n",
       "      <td>1.0</td>\n",
       "      <td>0.489583</td>\n",
       "      <td>3.0</td>\n",
       "      <td>2.0</td>\n",
       "      <td>25.0</td>\n",
       "      <td>0.0</td>\n",
       "      <td>4.274199</td>\n",
       "      <td>...</td>\n",
       "      <td>0.100000</td>\n",
       "      <td>1.0</td>\n",
       "      <td>-0.245833</td>\n",
       "      <td>-0.9</td>\n",
       "      <td>-0.012500</td>\n",
       "      <td>0.000000</td>\n",
       "      <td>0.000000</td>\n",
       "      <td>0.500000</td>\n",
       "      <td>0.000000</td>\n",
       "      <td>3800</td>\n",
       "    </tr>\n",
       "    <tr>\n",
       "      <th>1344</th>\n",
       "      <td>11.0</td>\n",
       "      <td>4125.0</td>\n",
       "      <td>0.276851</td>\n",
       "      <td>1.0</td>\n",
       "      <td>0.447151</td>\n",
       "      <td>8.0</td>\n",
       "      <td>8.0</td>\n",
       "      <td>21.0</td>\n",
       "      <td>0.0</td>\n",
       "      <td>4.332848</td>\n",
       "      <td>...</td>\n",
       "      <td>0.033333</td>\n",
       "      <td>1.0</td>\n",
       "      <td>-0.236260</td>\n",
       "      <td>-0.8</td>\n",
       "      <td>-0.050000</td>\n",
       "      <td>0.666667</td>\n",
       "      <td>0.458333</td>\n",
       "      <td>0.166667</td>\n",
       "      <td>0.458333</td>\n",
       "      <td>3400</td>\n",
       "    </tr>\n",
       "    <tr>\n",
       "      <th>1658</th>\n",
       "      <td>7.0</td>\n",
       "      <td>3288.0</td>\n",
       "      <td>0.375468</td>\n",
       "      <td>1.0</td>\n",
       "      <td>0.504087</td>\n",
       "      <td>29.0</td>\n",
       "      <td>24.0</td>\n",
       "      <td>1.0</td>\n",
       "      <td>73.0</td>\n",
       "      <td>4.720803</td>\n",
       "      <td>...</td>\n",
       "      <td>0.033333</td>\n",
       "      <td>1.0</td>\n",
       "      <td>-0.356952</td>\n",
       "      <td>-1.0</td>\n",
       "      <td>-0.071429</td>\n",
       "      <td>0.666667</td>\n",
       "      <td>0.333333</td>\n",
       "      <td>0.166667</td>\n",
       "      <td>0.333333</td>\n",
       "      <td>2300</td>\n",
       "    </tr>\n",
       "    <tr>\n",
       "      <th>1721</th>\n",
       "      <td>12.0</td>\n",
       "      <td>3137.0</td>\n",
       "      <td>0.266514</td>\n",
       "      <td>1.0</td>\n",
       "      <td>0.421053</td>\n",
       "      <td>12.0</td>\n",
       "      <td>12.0</td>\n",
       "      <td>21.0</td>\n",
       "      <td>0.0</td>\n",
       "      <td>4.211986</td>\n",
       "      <td>...</td>\n",
       "      <td>0.050000</td>\n",
       "      <td>1.0</td>\n",
       "      <td>-0.204933</td>\n",
       "      <td>-0.6</td>\n",
       "      <td>-0.025000</td>\n",
       "      <td>1.000000</td>\n",
       "      <td>0.333333</td>\n",
       "      <td>0.500000</td>\n",
       "      <td>0.333333</td>\n",
       "      <td>1800</td>\n",
       "    </tr>\n",
       "    <tr>\n",
       "      <th>2100</th>\n",
       "      <td>10.0</td>\n",
       "      <td>3050.0</td>\n",
       "      <td>0.399662</td>\n",
       "      <td>1.0</td>\n",
       "      <td>0.514995</td>\n",
       "      <td>8.0</td>\n",
       "      <td>2.0</td>\n",
       "      <td>1.0</td>\n",
       "      <td>73.0</td>\n",
       "      <td>4.939672</td>\n",
       "      <td>...</td>\n",
       "      <td>0.033333</td>\n",
       "      <td>1.0</td>\n",
       "      <td>-0.348389</td>\n",
       "      <td>-1.0</td>\n",
       "      <td>-0.050000</td>\n",
       "      <td>1.000000</td>\n",
       "      <td>0.000000</td>\n",
       "      <td>0.500000</td>\n",
       "      <td>0.000000</td>\n",
       "      <td>1700</td>\n",
       "    </tr>\n",
       "    <tr>\n",
       "      <th>...</th>\n",
       "      <td>...</td>\n",
       "      <td>...</td>\n",
       "      <td>...</td>\n",
       "      <td>...</td>\n",
       "      <td>...</td>\n",
       "      <td>...</td>\n",
       "      <td>...</td>\n",
       "      <td>...</td>\n",
       "      <td>...</td>\n",
       "      <td>...</td>\n",
       "      <td>...</td>\n",
       "      <td>...</td>\n",
       "      <td>...</td>\n",
       "      <td>...</td>\n",
       "      <td>...</td>\n",
       "      <td>...</td>\n",
       "      <td>...</td>\n",
       "      <td>...</td>\n",
       "      <td>...</td>\n",
       "      <td>...</td>\n",
       "      <td>...</td>\n",
       "    </tr>\n",
       "    <tr>\n",
       "      <th>36902</th>\n",
       "      <td>9.0</td>\n",
       "      <td>3359.0</td>\n",
       "      <td>0.351473</td>\n",
       "      <td>1.0</td>\n",
       "      <td>0.566188</td>\n",
       "      <td>10.0</td>\n",
       "      <td>10.0</td>\n",
       "      <td>12.0</td>\n",
       "      <td>1.0</td>\n",
       "      <td>4.421256</td>\n",
       "      <td>...</td>\n",
       "      <td>0.100000</td>\n",
       "      <td>1.0</td>\n",
       "      <td>-0.385982</td>\n",
       "      <td>-1.0</td>\n",
       "      <td>-0.025000</td>\n",
       "      <td>0.000000</td>\n",
       "      <td>0.000000</td>\n",
       "      <td>0.500000</td>\n",
       "      <td>0.000000</td>\n",
       "      <td>1000</td>\n",
       "    </tr>\n",
       "    <tr>\n",
       "      <th>37112</th>\n",
       "      <td>8.0</td>\n",
       "      <td>3810.0</td>\n",
       "      <td>0.299815</td>\n",
       "      <td>1.0</td>\n",
       "      <td>0.489796</td>\n",
       "      <td>23.0</td>\n",
       "      <td>0.0</td>\n",
       "      <td>2.0</td>\n",
       "      <td>0.0</td>\n",
       "      <td>4.629396</td>\n",
       "      <td>...</td>\n",
       "      <td>0.100000</td>\n",
       "      <td>1.0</td>\n",
       "      <td>-0.385897</td>\n",
       "      <td>-1.0</td>\n",
       "      <td>-0.050000</td>\n",
       "      <td>1.000000</td>\n",
       "      <td>-0.500000</td>\n",
       "      <td>0.500000</td>\n",
       "      <td>0.500000</td>\n",
       "      <td>1300</td>\n",
       "    </tr>\n",
       "    <tr>\n",
       "      <th>37116</th>\n",
       "      <td>7.0</td>\n",
       "      <td>3550.0</td>\n",
       "      <td>0.236477</td>\n",
       "      <td>1.0</td>\n",
       "      <td>0.416667</td>\n",
       "      <td>4.0</td>\n",
       "      <td>3.0</td>\n",
       "      <td>10.0</td>\n",
       "      <td>1.0</td>\n",
       "      <td>4.004789</td>\n",
       "      <td>...</td>\n",
       "      <td>0.033333</td>\n",
       "      <td>1.0</td>\n",
       "      <td>-0.319520</td>\n",
       "      <td>-1.0</td>\n",
       "      <td>-0.025000</td>\n",
       "      <td>0.000000</td>\n",
       "      <td>0.000000</td>\n",
       "      <td>0.500000</td>\n",
       "      <td>0.000000</td>\n",
       "      <td>2500</td>\n",
       "    </tr>\n",
       "    <tr>\n",
       "      <th>37558</th>\n",
       "      <td>10.0</td>\n",
       "      <td>3662.0</td>\n",
       "      <td>0.187208</td>\n",
       "      <td>1.0</td>\n",
       "      <td>0.344156</td>\n",
       "      <td>13.0</td>\n",
       "      <td>2.0</td>\n",
       "      <td>1.0</td>\n",
       "      <td>0.0</td>\n",
       "      <td>3.798198</td>\n",
       "      <td>...</td>\n",
       "      <td>0.100000</td>\n",
       "      <td>1.0</td>\n",
       "      <td>-0.268374</td>\n",
       "      <td>-0.7</td>\n",
       "      <td>-0.050000</td>\n",
       "      <td>0.000000</td>\n",
       "      <td>0.000000</td>\n",
       "      <td>0.500000</td>\n",
       "      <td>0.000000</td>\n",
       "      <td>1500</td>\n",
       "    </tr>\n",
       "    <tr>\n",
       "      <th>38638</th>\n",
       "      <td>15.0</td>\n",
       "      <td>6159.0</td>\n",
       "      <td>0.242384</td>\n",
       "      <td>1.0</td>\n",
       "      <td>0.411249</td>\n",
       "      <td>20.0</td>\n",
       "      <td>13.0</td>\n",
       "      <td>7.0</td>\n",
       "      <td>0.0</td>\n",
       "      <td>4.395681</td>\n",
       "      <td>...</td>\n",
       "      <td>0.033333</td>\n",
       "      <td>1.0</td>\n",
       "      <td>-0.317200</td>\n",
       "      <td>-1.0</td>\n",
       "      <td>-0.050000</td>\n",
       "      <td>0.000000</td>\n",
       "      <td>0.000000</td>\n",
       "      <td>0.500000</td>\n",
       "      <td>0.000000</td>\n",
       "      <td>2400</td>\n",
       "    </tr>\n",
       "  </tbody>\n",
       "</table>\n",
       "<p>119 rows × 59 columns</p>\n",
       "</div>"
      ],
      "text/plain": [
       "       n_tokens_title  n_tokens_content  n_unique_tokens  n_non_stop_words  \\\n",
       "1138              9.0            3027.0         0.299265               1.0   \n",
       "1344             11.0            4125.0         0.276851               1.0   \n",
       "1658              7.0            3288.0         0.375468               1.0   \n",
       "1721             12.0            3137.0         0.266514               1.0   \n",
       "2100             10.0            3050.0         0.399662               1.0   \n",
       "...               ...               ...              ...               ...   \n",
       "36902             9.0            3359.0         0.351473               1.0   \n",
       "37112             8.0            3810.0         0.299815               1.0   \n",
       "37116             7.0            3550.0         0.236477               1.0   \n",
       "37558            10.0            3662.0         0.187208               1.0   \n",
       "38638            15.0            6159.0         0.242384               1.0   \n",
       "\n",
       "       n_non_stop_unique_tokens  num_hrefs  num_self_hrefs  num_imgs  \\\n",
       "1138                   0.489583        3.0             2.0      25.0   \n",
       "1344                   0.447151        8.0             8.0      21.0   \n",
       "1658                   0.504087       29.0            24.0       1.0   \n",
       "1721                   0.421053       12.0            12.0      21.0   \n",
       "2100                   0.514995        8.0             2.0       1.0   \n",
       "...                         ...        ...             ...       ...   \n",
       "36902                  0.566188       10.0            10.0      12.0   \n",
       "37112                  0.489796       23.0             0.0       2.0   \n",
       "37116                  0.416667        4.0             3.0      10.0   \n",
       "37558                  0.344156       13.0             2.0       1.0   \n",
       "38638                  0.411249       20.0            13.0       7.0   \n",
       "\n",
       "       num_videos  average_token_length  ...  min_positive_polarity  \\\n",
       "1138          0.0              4.274199  ...               0.100000   \n",
       "1344          0.0              4.332848  ...               0.033333   \n",
       "1658         73.0              4.720803  ...               0.033333   \n",
       "1721          0.0              4.211986  ...               0.050000   \n",
       "2100         73.0              4.939672  ...               0.033333   \n",
       "...           ...                   ...  ...                    ...   \n",
       "36902         1.0              4.421256  ...               0.100000   \n",
       "37112         0.0              4.629396  ...               0.100000   \n",
       "37116         1.0              4.004789  ...               0.033333   \n",
       "37558         0.0              3.798198  ...               0.100000   \n",
       "38638         0.0              4.395681  ...               0.033333   \n",
       "\n",
       "       max_positive_polarity  avg_negative_polarity  min_negative_polarity  \\\n",
       "1138                     1.0              -0.245833                   -0.9   \n",
       "1344                     1.0              -0.236260                   -0.8   \n",
       "1658                     1.0              -0.356952                   -1.0   \n",
       "1721                     1.0              -0.204933                   -0.6   \n",
       "2100                     1.0              -0.348389                   -1.0   \n",
       "...                      ...                    ...                    ...   \n",
       "36902                    1.0              -0.385982                   -1.0   \n",
       "37112                    1.0              -0.385897                   -1.0   \n",
       "37116                    1.0              -0.319520                   -1.0   \n",
       "37558                    1.0              -0.268374                   -0.7   \n",
       "38638                    1.0              -0.317200                   -1.0   \n",
       "\n",
       "       max_negative_polarity  title_subjectivity  title_sentiment_polarity  \\\n",
       "1138               -0.012500            0.000000                  0.000000   \n",
       "1344               -0.050000            0.666667                  0.458333   \n",
       "1658               -0.071429            0.666667                  0.333333   \n",
       "1721               -0.025000            1.000000                  0.333333   \n",
       "2100               -0.050000            1.000000                  0.000000   \n",
       "...                      ...                 ...                       ...   \n",
       "36902              -0.025000            0.000000                  0.000000   \n",
       "37112              -0.050000            1.000000                 -0.500000   \n",
       "37116              -0.025000            0.000000                  0.000000   \n",
       "37558              -0.050000            0.000000                  0.000000   \n",
       "38638              -0.050000            0.000000                  0.000000   \n",
       "\n",
       "       abs_title_subjectivity  abs_title_sentiment_polarity  shares  \n",
       "1138                 0.500000                      0.000000    3800  \n",
       "1344                 0.166667                      0.458333    3400  \n",
       "1658                 0.166667                      0.333333    2300  \n",
       "1721                 0.500000                      0.333333    1800  \n",
       "2100                 0.500000                      0.000000    1700  \n",
       "...                       ...                           ...     ...  \n",
       "36902                0.500000                      0.000000    1000  \n",
       "37112                0.500000                      0.500000    1300  \n",
       "37116                0.500000                      0.000000    2500  \n",
       "37558                0.500000                      0.000000    1500  \n",
       "38638                0.500000                      0.000000    2400  \n",
       "\n",
       "[119 rows x 59 columns]"
      ]
     },
     "execution_count": 10,
     "metadata": {},
     "output_type": "execute_result"
    }
   ],
   "source": [
    "data[data[\"n_tokens_content\"] > 3000]"
   ]
  },
  {
   "cell_type": "code",
   "execution_count": 11,
   "metadata": {},
   "outputs": [],
   "source": [
    "min_shares = data[\"shares\"].min() - 1\n",
    "shares_50 = data[\"shares\"].quantile(.50)\n",
    "max_shares = data[\"shares\"].max() + 1\n",
    "\n",
    "popularity = pd.cut(data[\"shares\"], bins = [min_shares, shares_50, max_shares], \n",
    "       labels = [\"Low\", \"High\"])\n",
    "\n",
    "data[\"Popularity\"] = popularity"
   ]
  },
  {
   "cell_type": "code",
   "execution_count": 12,
   "metadata": {},
   "outputs": [
    {
     "data": {
      "text/html": [
       "<div>\n",
       "<style scoped>\n",
       "    .dataframe tbody tr th:only-of-type {\n",
       "        vertical-align: middle;\n",
       "    }\n",
       "\n",
       "    .dataframe tbody tr th {\n",
       "        vertical-align: top;\n",
       "    }\n",
       "\n",
       "    .dataframe thead th {\n",
       "        text-align: right;\n",
       "    }\n",
       "</style>\n",
       "<table border=\"1\" class=\"dataframe\">\n",
       "  <thead>\n",
       "    <tr style=\"text-align: right;\">\n",
       "      <th></th>\n",
       "      <th>n_tokens_title</th>\n",
       "      <th>n_tokens_content</th>\n",
       "      <th>n_unique_tokens</th>\n",
       "      <th>n_non_stop_words</th>\n",
       "      <th>n_non_stop_unique_tokens</th>\n",
       "      <th>num_hrefs</th>\n",
       "      <th>num_self_hrefs</th>\n",
       "      <th>num_imgs</th>\n",
       "      <th>num_videos</th>\n",
       "      <th>average_token_length</th>\n",
       "      <th>...</th>\n",
       "      <th>max_positive_polarity</th>\n",
       "      <th>avg_negative_polarity</th>\n",
       "      <th>min_negative_polarity</th>\n",
       "      <th>max_negative_polarity</th>\n",
       "      <th>title_subjectivity</th>\n",
       "      <th>title_sentiment_polarity</th>\n",
       "      <th>abs_title_subjectivity</th>\n",
       "      <th>abs_title_sentiment_polarity</th>\n",
       "      <th>shares</th>\n",
       "      <th>Popularity</th>\n",
       "    </tr>\n",
       "  </thead>\n",
       "  <tbody>\n",
       "    <tr>\n",
       "      <th>0</th>\n",
       "      <td>12.0</td>\n",
       "      <td>219.0</td>\n",
       "      <td>0.663594</td>\n",
       "      <td>1.0</td>\n",
       "      <td>0.815385</td>\n",
       "      <td>4.0</td>\n",
       "      <td>2.0</td>\n",
       "      <td>1.0</td>\n",
       "      <td>0.0</td>\n",
       "      <td>4.680365</td>\n",
       "      <td>...</td>\n",
       "      <td>0.7</td>\n",
       "      <td>-0.350000</td>\n",
       "      <td>-0.600</td>\n",
       "      <td>-0.200000</td>\n",
       "      <td>0.500000</td>\n",
       "      <td>-0.187500</td>\n",
       "      <td>0.000000</td>\n",
       "      <td>0.187500</td>\n",
       "      <td>593</td>\n",
       "      <td>Low</td>\n",
       "    </tr>\n",
       "    <tr>\n",
       "      <th>1</th>\n",
       "      <td>9.0</td>\n",
       "      <td>255.0</td>\n",
       "      <td>0.604743</td>\n",
       "      <td>1.0</td>\n",
       "      <td>0.791946</td>\n",
       "      <td>3.0</td>\n",
       "      <td>1.0</td>\n",
       "      <td>1.0</td>\n",
       "      <td>0.0</td>\n",
       "      <td>4.913725</td>\n",
       "      <td>...</td>\n",
       "      <td>0.7</td>\n",
       "      <td>-0.118750</td>\n",
       "      <td>-0.125</td>\n",
       "      <td>-0.100000</td>\n",
       "      <td>0.000000</td>\n",
       "      <td>0.000000</td>\n",
       "      <td>0.500000</td>\n",
       "      <td>0.000000</td>\n",
       "      <td>711</td>\n",
       "      <td>Low</td>\n",
       "    </tr>\n",
       "    <tr>\n",
       "      <th>2</th>\n",
       "      <td>9.0</td>\n",
       "      <td>211.0</td>\n",
       "      <td>0.575130</td>\n",
       "      <td>1.0</td>\n",
       "      <td>0.663866</td>\n",
       "      <td>3.0</td>\n",
       "      <td>1.0</td>\n",
       "      <td>1.0</td>\n",
       "      <td>0.0</td>\n",
       "      <td>4.393365</td>\n",
       "      <td>...</td>\n",
       "      <td>1.0</td>\n",
       "      <td>-0.466667</td>\n",
       "      <td>-0.800</td>\n",
       "      <td>-0.133333</td>\n",
       "      <td>0.000000</td>\n",
       "      <td>0.000000</td>\n",
       "      <td>0.500000</td>\n",
       "      <td>0.000000</td>\n",
       "      <td>1500</td>\n",
       "      <td>High</td>\n",
       "    </tr>\n",
       "    <tr>\n",
       "      <th>3</th>\n",
       "      <td>9.0</td>\n",
       "      <td>531.0</td>\n",
       "      <td>0.503788</td>\n",
       "      <td>1.0</td>\n",
       "      <td>0.665635</td>\n",
       "      <td>9.0</td>\n",
       "      <td>0.0</td>\n",
       "      <td>1.0</td>\n",
       "      <td>0.0</td>\n",
       "      <td>4.404896</td>\n",
       "      <td>...</td>\n",
       "      <td>0.8</td>\n",
       "      <td>-0.369697</td>\n",
       "      <td>-0.600</td>\n",
       "      <td>-0.166667</td>\n",
       "      <td>0.000000</td>\n",
       "      <td>0.000000</td>\n",
       "      <td>0.500000</td>\n",
       "      <td>0.000000</td>\n",
       "      <td>1200</td>\n",
       "      <td>Low</td>\n",
       "    </tr>\n",
       "    <tr>\n",
       "      <th>4</th>\n",
       "      <td>13.0</td>\n",
       "      <td>1072.0</td>\n",
       "      <td>0.415646</td>\n",
       "      <td>1.0</td>\n",
       "      <td>0.540890</td>\n",
       "      <td>19.0</td>\n",
       "      <td>19.0</td>\n",
       "      <td>20.0</td>\n",
       "      <td>0.0</td>\n",
       "      <td>4.682836</td>\n",
       "      <td>...</td>\n",
       "      <td>1.0</td>\n",
       "      <td>-0.220192</td>\n",
       "      <td>-0.500</td>\n",
       "      <td>-0.050000</td>\n",
       "      <td>0.454545</td>\n",
       "      <td>0.136364</td>\n",
       "      <td>0.045455</td>\n",
       "      <td>0.136364</td>\n",
       "      <td>505</td>\n",
       "      <td>Low</td>\n",
       "    </tr>\n",
       "  </tbody>\n",
       "</table>\n",
       "<p>5 rows × 60 columns</p>\n",
       "</div>"
      ],
      "text/plain": [
       "   n_tokens_title  n_tokens_content  n_unique_tokens  n_non_stop_words  \\\n",
       "0            12.0             219.0         0.663594               1.0   \n",
       "1             9.0             255.0         0.604743               1.0   \n",
       "2             9.0             211.0         0.575130               1.0   \n",
       "3             9.0             531.0         0.503788               1.0   \n",
       "4            13.0            1072.0         0.415646               1.0   \n",
       "\n",
       "   n_non_stop_unique_tokens  num_hrefs  num_self_hrefs  num_imgs  num_videos  \\\n",
       "0                  0.815385        4.0             2.0       1.0         0.0   \n",
       "1                  0.791946        3.0             1.0       1.0         0.0   \n",
       "2                  0.663866        3.0             1.0       1.0         0.0   \n",
       "3                  0.665635        9.0             0.0       1.0         0.0   \n",
       "4                  0.540890       19.0            19.0      20.0         0.0   \n",
       "\n",
       "   average_token_length  ...  max_positive_polarity  avg_negative_polarity  \\\n",
       "0              4.680365  ...                    0.7              -0.350000   \n",
       "1              4.913725  ...                    0.7              -0.118750   \n",
       "2              4.393365  ...                    1.0              -0.466667   \n",
       "3              4.404896  ...                    0.8              -0.369697   \n",
       "4              4.682836  ...                    1.0              -0.220192   \n",
       "\n",
       "   min_negative_polarity  max_negative_polarity  title_subjectivity  \\\n",
       "0                 -0.600              -0.200000            0.500000   \n",
       "1                 -0.125              -0.100000            0.000000   \n",
       "2                 -0.800              -0.133333            0.000000   \n",
       "3                 -0.600              -0.166667            0.000000   \n",
       "4                 -0.500              -0.050000            0.454545   \n",
       "\n",
       "   title_sentiment_polarity  abs_title_subjectivity  \\\n",
       "0                 -0.187500                0.000000   \n",
       "1                  0.000000                0.500000   \n",
       "2                  0.000000                0.500000   \n",
       "3                  0.000000                0.500000   \n",
       "4                  0.136364                0.045455   \n",
       "\n",
       "   abs_title_sentiment_polarity  shares  Popularity  \n",
       "0                      0.187500     593         Low  \n",
       "1                      0.000000     711         Low  \n",
       "2                      0.000000    1500        High  \n",
       "3                      0.000000    1200         Low  \n",
       "4                      0.136364     505         Low  \n",
       "\n",
       "[5 rows x 60 columns]"
      ]
     },
     "execution_count": 12,
     "metadata": {},
     "output_type": "execute_result"
    }
   ],
   "source": [
    "data.head()"
   ]
  },
  {
   "cell_type": "code",
   "execution_count": 13,
   "metadata": {},
   "outputs": [
    {
     "data": {
      "text/plain": [
       "Text(0.5, 1.0, 'Histogram of Number of Shares for Articles With Less than 10,000 Shares')"
      ]
     },
     "execution_count": 13,
     "metadata": {},
     "output_type": "execute_result"
    },
    {
     "data": {
      "image/png": "[encoded data removed]",
      "text/plain": [
       "<Figure size 720x576 with 1 Axes>"
      ]
     },
     "metadata": {
      "needs_background": "light"
     },
     "output_type": "display_data"
    }
   ],
   "source": [
    "plt.figure(figsize = (10, 8))\n",
    "plt.hist(data[data[\"shares\"] < 10000][\"shares\"])\n",
    "plt.xlabel(\"Number of Shares\")\n",
    "plt.ylabel(\"Number of Articles\")\n",
    "plt.title(\"Histogram of Number of Shares for Articles With Less than 10,000 Shares\")"
   ]
  },
  {
   "cell_type": "code",
   "execution_count": 14,
   "metadata": {},
   "outputs": [
    {
     "name": "stdout",
     "output_type": "stream",
     "text": [
      "The skew of the distribution of shares is 33.96388487571415, and the kurtosis is 1832.6726571600288.\n"
     ]
    }
   ],
   "source": [
    "shares_skew = data[\"shares\"].skew()\n",
    "shares_kurtosis = data[\"shares\"].kurt()\n",
    "\n",
    "print(\"The skew of the distribution of shares is %s, and the kurtosis is %s.\" %(shares_skew, shares_kurtosis))"
   ]
  },
  {
   "cell_type": "code",
   "execution_count": 15,
   "metadata": {},
   "outputs": [
    {
     "data": {
      "text/html": [
       "<div>\n",
       "<style scoped>\n",
       "    .dataframe tbody tr th:only-of-type {\n",
       "        vertical-align: middle;\n",
       "    }\n",
       "\n",
       "    .dataframe tbody tr th {\n",
       "        vertical-align: top;\n",
       "    }\n",
       "\n",
       "    .dataframe thead th {\n",
       "        text-align: right;\n",
       "    }\n",
       "</style>\n",
       "<table border=\"1\" class=\"dataframe\">\n",
       "  <thead>\n",
       "    <tr style=\"text-align: right;\">\n",
       "      <th></th>\n",
       "      <th>weekday_is_monday</th>\n",
       "      <th>weekday_is_tuesday</th>\n",
       "      <th>weekday_is_wednesday</th>\n",
       "      <th>weekday_is_thursday</th>\n",
       "      <th>weekday_is_friday</th>\n",
       "      <th>weekday_is_saturday</th>\n",
       "      <th>weekday_is_sunday</th>\n",
       "    </tr>\n",
       "    <tr>\n",
       "      <th>Popularity</th>\n",
       "      <th></th>\n",
       "      <th></th>\n",
       "      <th></th>\n",
       "      <th></th>\n",
       "      <th></th>\n",
       "      <th></th>\n",
       "      <th></th>\n",
       "    </tr>\n",
       "  </thead>\n",
       "  <tbody>\n",
       "    <tr>\n",
       "      <th>Low</th>\n",
       "      <td>20082</td>\n",
       "      <td>20082</td>\n",
       "      <td>20082</td>\n",
       "      <td>20082</td>\n",
       "      <td>20082</td>\n",
       "      <td>20082</td>\n",
       "      <td>20082</td>\n",
       "    </tr>\n",
       "    <tr>\n",
       "      <th>High</th>\n",
       "      <td>19562</td>\n",
       "      <td>19562</td>\n",
       "      <td>19562</td>\n",
       "      <td>19562</td>\n",
       "      <td>19562</td>\n",
       "      <td>19562</td>\n",
       "      <td>19562</td>\n",
       "    </tr>\n",
       "  </tbody>\n",
       "</table>\n",
       "</div>"
      ],
      "text/plain": [
       "            weekday_is_monday  weekday_is_tuesday  weekday_is_wednesday  \\\n",
       "Popularity                                                                \n",
       "Low                     20082               20082                 20082   \n",
       "High                    19562               19562                 19562   \n",
       "\n",
       "            weekday_is_thursday  weekday_is_friday  weekday_is_saturday  \\\n",
       "Popularity                                                                \n",
       "Low                       20082              20082                20082   \n",
       "High                      19562              19562                19562   \n",
       "\n",
       "            weekday_is_sunday  \n",
       "Popularity                     \n",
       "Low                     20082  \n",
       "High                    19562  "
      ]
     },
     "execution_count": 15,
     "metadata": {},
     "output_type": "execute_result"
    }
   ],
   "source": [
    "days = [\"weekday_is_monday\", \"weekday_is_tuesday\", \"weekday_is_wednesday\", \"weekday_is_thursday\", \"weekday_is_friday\",\n",
    "      \"weekday_is_saturday\", \"weekday_is_sunday\"]\n",
    "pd.DataFrame(data.groupby(\"Popularity\")[days].count())"
   ]
  },
  {
   "cell_type": "code",
   "execution_count": 16,
   "metadata": {},
   "outputs": [],
   "source": [
    "data[\"day_of_week\"] = data[days].eq(1).idxmax(axis=1)\n",
    "weekdays = [\"Monday\", \"Tuesday\", \"Wednesday\", \"Thursday\", \"Friday\", \"Saturday\", \"Sunday\"]\n",
    "\n",
    "day_dictionary = {}\n",
    "for i in range(len(days)):\n",
    "    day_dictionary[days[i]] = weekdays[i]\n",
    "\n",
    "data[\"day_of_week\"] = data[\"day_of_week\"].map(day_dictionary)"
   ]
  },
  {
   "cell_type": "code",
   "execution_count": 17,
   "metadata": {},
   "outputs": [],
   "source": [
    "data_channels = [\"data_channel_is_lifestyle\", \"data_channel_is_entertainment\", \"data_channel_is_bus\",\n",
    "                 \"data_channel_is_socmed\", \"data_channel_is_tech\", \"data_channel_is_world\"]\n",
    "data[\"data_channel\"] = data[data_channels].eq(1).idxmax(axis=1)\n",
    "channels = [\"Lifestyle\", \"Entertainment\", \"Business\", \"Social Media\", \"Tech\", \"World\"]\n",
    "\n",
    "channels_dictionary= {}\n",
    "for i in range(len(data_channels)): \n",
    "    channels_dictionary[data_channels[i]] = channels[i]\n",
    "data[\"data_channel\"] = data[\"data_channel\"].map(channels_dictionary)"
   ]
  },
  {
   "cell_type": "code",
   "execution_count": 18,
   "metadata": {},
   "outputs": [
    {
     "data": {
      "text/html": [
       "<div>\n",
       "<style scoped>\n",
       "    .dataframe tbody tr th:only-of-type {\n",
       "        vertical-align: middle;\n",
       "    }\n",
       "\n",
       "    .dataframe tbody tr th {\n",
       "        vertical-align: top;\n",
       "    }\n",
       "\n",
       "    .dataframe thead th {\n",
       "        text-align: right;\n",
       "    }\n",
       "</style>\n",
       "<table border=\"1\" class=\"dataframe\">\n",
       "  <thead>\n",
       "    <tr style=\"text-align: right;\">\n",
       "      <th></th>\n",
       "      <th></th>\n",
       "      <th>Count</th>\n",
       "      <th>Percentage</th>\n",
       "    </tr>\n",
       "    <tr>\n",
       "      <th>day_of_week</th>\n",
       "      <th>Popularity</th>\n",
       "      <th></th>\n",
       "      <th></th>\n",
       "    </tr>\n",
       "  </thead>\n",
       "  <tbody>\n",
       "    <tr>\n",
       "      <th rowspan=\"2\" valign=\"top\">Friday</th>\n",
       "      <th>Low</th>\n",
       "      <td>2836</td>\n",
       "      <td>49.745659</td>\n",
       "    </tr>\n",
       "    <tr>\n",
       "      <th>High</th>\n",
       "      <td>2865</td>\n",
       "      <td>50.254341</td>\n",
       "    </tr>\n",
       "    <tr>\n",
       "      <th rowspan=\"2\" valign=\"top\">Monday</th>\n",
       "      <th>Low</th>\n",
       "      <td>3521</td>\n",
       "      <td>52.859931</td>\n",
       "    </tr>\n",
       "    <tr>\n",
       "      <th>High</th>\n",
       "      <td>3140</td>\n",
       "      <td>47.140069</td>\n",
       "    </tr>\n",
       "    <tr>\n",
       "      <th rowspan=\"2\" valign=\"top\">Saturday</th>\n",
       "      <th>Low</th>\n",
       "      <td>733</td>\n",
       "      <td>29.881777</td>\n",
       "    </tr>\n",
       "    <tr>\n",
       "      <th>High</th>\n",
       "      <td>1720</td>\n",
       "      <td>70.118223</td>\n",
       "    </tr>\n",
       "    <tr>\n",
       "      <th rowspan=\"2\" valign=\"top\">Sunday</th>\n",
       "      <th>Low</th>\n",
       "      <td>976</td>\n",
       "      <td>35.659481</td>\n",
       "    </tr>\n",
       "    <tr>\n",
       "      <th>High</th>\n",
       "      <td>1761</td>\n",
       "      <td>64.340519</td>\n",
       "    </tr>\n",
       "    <tr>\n",
       "      <th rowspan=\"2\" valign=\"top\">Thursday</th>\n",
       "      <th>Low</th>\n",
       "      <td>3885</td>\n",
       "      <td>53.460850</td>\n",
       "    </tr>\n",
       "    <tr>\n",
       "      <th>High</th>\n",
       "      <td>3382</td>\n",
       "      <td>46.539150</td>\n",
       "    </tr>\n",
       "    <tr>\n",
       "      <th rowspan=\"2\" valign=\"top\">Tuesday</th>\n",
       "      <th>Low</th>\n",
       "      <td>4031</td>\n",
       "      <td>54.546685</td>\n",
       "    </tr>\n",
       "    <tr>\n",
       "      <th>High</th>\n",
       "      <td>3359</td>\n",
       "      <td>45.453315</td>\n",
       "    </tr>\n",
       "    <tr>\n",
       "      <th rowspan=\"2\" valign=\"top\">Wednesday</th>\n",
       "      <th>Low</th>\n",
       "      <td>4100</td>\n",
       "      <td>55.144586</td>\n",
       "    </tr>\n",
       "    <tr>\n",
       "      <th>High</th>\n",
       "      <td>3335</td>\n",
       "      <td>44.855414</td>\n",
       "    </tr>\n",
       "  </tbody>\n",
       "</table>\n",
       "</div>"
      ],
      "text/plain": [
       "                        Count  Percentage\n",
       "day_of_week Popularity                   \n",
       "Friday      Low          2836   49.745659\n",
       "            High         2865   50.254341\n",
       "Monday      Low          3521   52.859931\n",
       "            High         3140   47.140069\n",
       "Saturday    Low           733   29.881777\n",
       "            High         1720   70.118223\n",
       "Sunday      Low           976   35.659481\n",
       "            High         1761   64.340519\n",
       "Thursday    Low          3885   53.460850\n",
       "            High         3382   46.539150\n",
       "Tuesday     Low          4031   54.546685\n",
       "            High         3359   45.453315\n",
       "Wednesday   Low          4100   55.144586\n",
       "            High         3335   44.855414"
      ]
     },
     "execution_count": 18,
     "metadata": {},
     "output_type": "execute_result"
    }
   ],
   "source": [
    "article_count_by_data_channel = pd.DataFrame(data.groupby([\"day_of_week\", \"Popularity\"]).count().iloc[:,0])\n",
    "article_count_by_data_channel.columns = [\"Count\"]\n",
    "totals = list(np.repeat(list(article_count_by_data_channel.groupby(\"day_of_week\").sum()[\"Count\"]), 2))\n",
    "article_count_by_data_channel[\"Percentage\"] = (article_count_by_data_channel[\"Count\"] / totals) * 100\n",
    "article_count_by_data_channel"
   ]
  },
  {
   "cell_type": "code",
   "execution_count": 19,
   "metadata": {},
   "outputs": [
    {
     "data": {
      "text/plain": [
       "Text(0.5, 1.0, 'Total Number of Shares for Articles Published on Each Weekday')"
      ]
     },
     "execution_count": 19,
     "metadata": {},
     "output_type": "execute_result"
    },
    {
     "data": {
      "image/png": "[encoded data removed]",
      "text/plain": [
       "<Figure size 864x432 with 1 Axes>"
      ]
     },
     "metadata": {
      "needs_background": "light"
     },
     "output_type": "display_data"
    }
   ],
   "source": [
    "#Number of shares for articles published on each weekday\n",
    "plt.figure(figsize = (12, 6))\n",
    "plt.ticklabel_format(style = \"plain\")\n",
    "data.groupby(\"day_of_week\")[\"shares\"].sum().plot.bar()\n",
    "plt.xlabel(\"Weekday Published\")\n",
    "plt.ylabel(\"Total Number of Shares\")\n",
    "plt.title(\"Total Number of Shares for Articles Published on Each Weekday\")"
   ]
  },
  {
   "cell_type": "code",
   "execution_count": 20,
   "metadata": {},
   "outputs": [
    {
     "data": {
      "text/plain": [
       "Text(0.5, 1.0, 'Number of Articles Published on Each Weekday by Popularity')"
      ]
     },
     "execution_count": 20,
     "metadata": {},
     "output_type": "execute_result"
    },
    {
     "data": {
      "image/png": "[encoded data removed]",
      "text/plain": [
       "<Figure size 864x432 with 1 Axes>"
      ]
     },
     "metadata": {
      "needs_background": "light"
     },
     "output_type": "display_data"
    }
   ],
   "source": [
    "#Number of articles published on each weekday by popularity\n",
    "plt.figure(figsize = (12, 6))\n",
    "g = sns.countplot(x = \"day_of_week\", hue = \"Popularity\", data = data)\n",
    "plt.xlabel(\"Weekday Published\")\n",
    "plt.ylabel(\"Number of Articles\")\n",
    "plt.title(\"Number of Articles Published on Each Weekday by Popularity\")"
   ]
  },
  {
   "cell_type": "code",
   "execution_count": 21,
   "metadata": {},
   "outputs": [
    {
     "data": {
      "text/html": [
       "<div>\n",
       "<style scoped>\n",
       "    .dataframe tbody tr th:only-of-type {\n",
       "        vertical-align: middle;\n",
       "    }\n",
       "\n",
       "    .dataframe tbody tr th {\n",
       "        vertical-align: top;\n",
       "    }\n",
       "\n",
       "    .dataframe thead th {\n",
       "        text-align: right;\n",
       "    }\n",
       "</style>\n",
       "<table border=\"1\" class=\"dataframe\">\n",
       "  <thead>\n",
       "    <tr style=\"text-align: right;\">\n",
       "      <th></th>\n",
       "      <th></th>\n",
       "      <th>Count</th>\n",
       "      <th>Percentage</th>\n",
       "    </tr>\n",
       "    <tr>\n",
       "      <th>data_channel</th>\n",
       "      <th>Popularity</th>\n",
       "      <th></th>\n",
       "      <th></th>\n",
       "    </tr>\n",
       "  </thead>\n",
       "  <tbody>\n",
       "    <tr>\n",
       "      <th rowspan=\"2\" valign=\"top\">Business</th>\n",
       "      <th>Low</th>\n",
       "      <td>3229</td>\n",
       "      <td>51.597955</td>\n",
       "    </tr>\n",
       "    <tr>\n",
       "      <th>High</th>\n",
       "      <td>3029</td>\n",
       "      <td>48.402045</td>\n",
       "    </tr>\n",
       "    <tr>\n",
       "      <th rowspan=\"2\" valign=\"top\">Entertainment</th>\n",
       "      <th>Low</th>\n",
       "      <td>4413</td>\n",
       "      <td>62.533655</td>\n",
       "    </tr>\n",
       "    <tr>\n",
       "      <th>High</th>\n",
       "      <td>2644</td>\n",
       "      <td>37.466345</td>\n",
       "    </tr>\n",
       "    <tr>\n",
       "      <th rowspan=\"2\" valign=\"top\">Lifestyle</th>\n",
       "      <th>Low</th>\n",
       "      <td>3298</td>\n",
       "      <td>40.058302</td>\n",
       "    </tr>\n",
       "    <tr>\n",
       "      <th>High</th>\n",
       "      <td>4935</td>\n",
       "      <td>59.941698</td>\n",
       "    </tr>\n",
       "    <tr>\n",
       "      <th rowspan=\"2\" valign=\"top\">Social Media</th>\n",
       "      <th>Low</th>\n",
       "      <td>664</td>\n",
       "      <td>28.583728</td>\n",
       "    </tr>\n",
       "    <tr>\n",
       "      <th>High</th>\n",
       "      <td>1659</td>\n",
       "      <td>71.416272</td>\n",
       "    </tr>\n",
       "    <tr>\n",
       "      <th rowspan=\"2\" valign=\"top\">Tech</th>\n",
       "      <th>Low</th>\n",
       "      <td>2987</td>\n",
       "      <td>40.661585</td>\n",
       "    </tr>\n",
       "    <tr>\n",
       "      <th>High</th>\n",
       "      <td>4359</td>\n",
       "      <td>59.338415</td>\n",
       "    </tr>\n",
       "    <tr>\n",
       "      <th rowspan=\"2\" valign=\"top\">World</th>\n",
       "      <th>Low</th>\n",
       "      <td>5491</td>\n",
       "      <td>65.159606</td>\n",
       "    </tr>\n",
       "    <tr>\n",
       "      <th>High</th>\n",
       "      <td>2936</td>\n",
       "      <td>34.840394</td>\n",
       "    </tr>\n",
       "  </tbody>\n",
       "</table>\n",
       "</div>"
      ],
      "text/plain": [
       "                          Count  Percentage\n",
       "data_channel  Popularity                   \n",
       "Business      Low          3229   51.597955\n",
       "              High         3029   48.402045\n",
       "Entertainment Low          4413   62.533655\n",
       "              High         2644   37.466345\n",
       "Lifestyle     Low          3298   40.058302\n",
       "              High         4935   59.941698\n",
       "Social Media  Low           664   28.583728\n",
       "              High         1659   71.416272\n",
       "Tech          Low          2987   40.661585\n",
       "              High         4359   59.338415\n",
       "World         Low          5491   65.159606\n",
       "              High         2936   34.840394"
      ]
     },
     "execution_count": 21,
     "metadata": {},
     "output_type": "execute_result"
    }
   ],
   "source": [
    "article_count_by_data_channel = pd.DataFrame(data.groupby([\"data_channel\", \"Popularity\"]).count().iloc[:,0])\n",
    "article_count_by_data_channel.columns = [\"Count\"]\n",
    "totals = list(np.repeat(list(article_count_by_data_channel.groupby(\"data_channel\").sum()[\"Count\"]), 2))\n",
    "article_count_by_data_channel[\"Percentage\"] = (article_count_by_data_channel[\"Count\"] / totals) * 100\n",
    "article_count_by_data_channel"
   ]
  },
  {
   "cell_type": "code",
   "execution_count": 22,
   "metadata": {},
   "outputs": [
    {
     "data": {
      "text/plain": [
       "Text(0.5, 1.0, 'Total Number of Articles in Each Data Channel')"
      ]
     },
     "execution_count": 22,
     "metadata": {},
     "output_type": "execute_result"
    },
    {
     "data": {
      "image/png": "[encoded data removed]",
      "text/plain": [
       "<Figure size 864x432 with 1 Axes>"
      ]
     },
     "metadata": {
      "needs_background": "light"
     },
     "output_type": "display_data"
    }
   ],
   "source": [
    "#Number of articles in each data channel\n",
    "plt.figure(figsize = (12, 6))\n",
    "plt.ticklabel_format(style = \"plain\")\n",
    "data.groupby(\"data_channel\")[\"shares\"].count().plot.bar()\n",
    "plt.xlabel(\"Data Channel\")\n",
    "plt.ylabel(\"Total Number of Articles\")\n",
    "plt.title(\"Total Number of Articles in Each Data Channel\")"
   ]
  },
  {
   "cell_type": "code",
   "execution_count": 23,
   "metadata": {},
   "outputs": [
    {
     "data": {
      "text/plain": [
       "Text(0.5, 1.0, 'Total Number of Shares for Articles in Each Data Channel')"
      ]
     },
     "execution_count": 23,
     "metadata": {},
     "output_type": "execute_result"
    },
    {
     "data": {
      "image/png": "[encoded data removed]",
      "text/plain": [
       "<Figure size 864x432 with 1 Axes>"
      ]
     },
     "metadata": {
      "needs_background": "light"
     },
     "output_type": "display_data"
    }
   ],
   "source": [
    "#Number of shares for articles in each data channel\n",
    "plt.figure(figsize = (12, 6))\n",
    "plt.ticklabel_format(style = \"plain\")\n",
    "data.groupby(\"data_channel\")[\"shares\"].sum().plot.bar()\n",
    "plt.xlabel(\"Data Channel\")\n",
    "plt.ylabel(\"Total Number of Shares\")\n",
    "plt.title(\"Total Number of Shares for Articles in Each Data Channel\")"
   ]
  },
  {
   "cell_type": "code",
   "execution_count": 24,
   "metadata": {},
   "outputs": [
    {
     "data": {
      "text/plain": [
       "Text(0.5, 1.0, 'Number of Articles in Each Data Channel by Popularity')"
      ]
     },
     "execution_count": 24,
     "metadata": {},
     "output_type": "execute_result"
    },
    {
     "data": {
      "image/png": "[encoded data removed]",
      "text/plain": [
       "<Figure size 864x432 with 1 Axes>"
      ]
     },
     "metadata": {
      "needs_background": "light"
     },
     "output_type": "display_data"
    }
   ],
   "source": [
    "#Number of articles in each data channel by popularity\n",
    "plt.figure(figsize = (12, 6))\n",
    "g = sns.countplot(x = \"data_channel\", hue = \"Popularity\", data = data)\n",
    "plt.xlabel(\"Data Channel\")\n",
    "plt.ylabel(\"Number of Articles\")\n",
    "plt.title(\"Number of Articles in Each Data Channel by Popularity\")"
   ]
  },
  {
   "cell_type": "code",
   "execution_count": 25,
   "metadata": {},
   "outputs": [
    {
     "data": {
      "text/plain": [
       "Text(0.5, 1.0, 'Histogram of Number of Images for Articles With Less Than 20 Images')"
      ]
     },
     "execution_count": 25,
     "metadata": {},
     "output_type": "execute_result"
    },
    {
     "data": {
      "image/png": "[encoded data removed]",
      "text/plain": [
       "<Figure size 864x432 with 1 Axes>"
      ]
     },
     "metadata": {
      "needs_background": "light"
     },
     "output_type": "display_data"
    }
   ],
   "source": [
    "plt.figure(figsize = (12, 6))\n",
    "plt.hist(data[data[\"num_imgs\"] < 20][\"num_imgs\"], bins = 19)\n",
    "plt.xlabel(\"Number of Images\")\n",
    "plt.ylabel(\"Number of Articles\")\n",
    "plt.title(\"Histogram of Number of Images for Articles With Less Than 20 Images\")"
   ]
  },
  {
   "cell_type": "code",
   "execution_count": 26,
   "metadata": {},
   "outputs": [
    {
     "data": {
      "text/plain": [
       "Text(0.5, 1.0, 'Histogram of Number of Images Found in Popular Articles')"
      ]
     },
     "execution_count": 26,
     "metadata": {},
     "output_type": "execute_result"
    },
    {
     "data": {
      "image/png": "[encoded data removed]",
      "text/plain": [
       "<Figure size 864x432 with 1 Axes>"
      ]
     },
     "metadata": {
      "needs_background": "light"
     },
     "output_type": "display_data"
    }
   ],
   "source": [
    "plt.figure(figsize = (12, 6))\n",
    "plt.hist(data[data[\"Popularity\"] == \"High\"][\"num_imgs\"], bins = 19)\n",
    "plt.xlabel(\"Number of Images\")\n",
    "plt.ylabel(\"Number of Articles\")\n",
    "plt.title(\"Histogram of Number of Images Found in Popular Articles\")"
   ]
  },
  {
   "cell_type": "code",
   "execution_count": 27,
   "metadata": {},
   "outputs": [
    {
     "data": {
      "text/plain": [
       "Text(0.5, 1.0, 'Histogram of Number of Images Found in Unpopular Articles')"
      ]
     },
     "execution_count": 27,
     "metadata": {},
     "output_type": "execute_result"
    },
    {
     "data": {
      "image/png": "[encoded data removed]",
      "text/plain": [
       "<Figure size 864x432 with 1 Axes>"
      ]
     },
     "metadata": {
      "needs_background": "light"
     },
     "output_type": "display_data"
    }
   ],
   "source": [
    "plt.figure(figsize = (12, 6))\n",
    "plt.hist(data[data[\"Popularity\"] == \"Low\"][\"num_imgs\"], bins = 19)\n",
    "plt.xlabel(\"Number of Images\")\n",
    "plt.ylabel(\"Number of Articles\")\n",
    "plt.title(\"Histogram of Number of Images Found in Unpopular Articles\")"
   ]
  },
  {
   "cell_type": "code",
   "execution_count": 28,
   "metadata": {},
   "outputs": [
    {
     "data": {
      "text/plain": [
       "Text(0.5, 1.0, 'Histogram of Number of Videos for Articles With Less Than 15 Videos')"
      ]
     },
     "execution_count": 28,
     "metadata": {},
     "output_type": "execute_result"
    },
    {
     "data": {
      "image/png": "[encoded data removed]",
      "text/plain": [
       "<Figure size 864x432 with 1 Axes>"
      ]
     },
     "metadata": {
      "needs_background": "light"
     },
     "output_type": "display_data"
    }
   ],
   "source": [
    "plt.figure(figsize = (12, 6))\n",
    "plt.hist(data[data[\"num_videos\"] < 15][\"num_videos\"], bins = 14)\n",
    "plt.xlabel(\"Number of Videos\")\n",
    "plt.ylabel(\"Number of Articles\")\n",
    "plt.title(\"Histogram of Number of Videos for Articles With Less Than 15 Videos\")"
   ]
  },
  {
   "cell_type": "code",
   "execution_count": 29,
   "metadata": {},
   "outputs": [
    {
     "data": {
      "text/plain": [
       "Text(0.5, 1.0, 'Histogram of Number of Videos Found in Popular Articles')"
      ]
     },
     "execution_count": 29,
     "metadata": {},
     "output_type": "execute_result"
    },
    {
     "data": {
      "image/png": "[encoded data removed]",
      "text/plain": [
       "<Figure size 864x432 with 1 Axes>"
      ]
     },
     "metadata": {
      "needs_background": "light"
     },
     "output_type": "display_data"
    }
   ],
   "source": [
    "plt.figure(figsize = (12, 6))\n",
    "plt.hist(data[data[\"Popularity\"] == \"High\"][\"num_videos\"], bins = 20)\n",
    "plt.xlabel(\"Number of Videos\")\n",
    "plt.ylabel(\"Number of Articles\")\n",
    "plt.title(\"Histogram of Number of Videos Found in Popular Articles\")"
   ]
  },
  {
   "cell_type": "code",
   "execution_count": 30,
   "metadata": {},
   "outputs": [
    {
     "data": {
      "text/plain": [
       "Text(0.5, 1.0, 'Histogram of Number of Videos Found in Unpopular Articles')"
      ]
     },
     "execution_count": 30,
     "metadata": {},
     "output_type": "execute_result"
    },
    {
     "data": {
      "image/png": "[encoded data removed]",
      "text/plain": [
       "<Figure size 864x432 with 1 Axes>"
      ]
     },
     "metadata": {
      "needs_background": "light"
     },
     "output_type": "display_data"
    }
   ],
   "source": [
    "plt.figure(figsize = (12, 6))\n",
    "plt.hist(data[data[\"Popularity\"] == \"Low\"][\"num_videos\"], bins = 20)\n",
    "plt.xlabel(\"Number of Videos\")\n",
    "plt.ylabel(\"Number of Articles\")\n",
    "plt.title(\"Histogram of Number of Videos Found in Unpopular Articles\")"
   ]
  },
  {
   "cell_type": "markdown",
   "metadata": {},
   "source": [
    "## Model Building"
   ]
  },
  {
   "cell_type": "markdown",
   "metadata": {},
   "source": [
    "### Naive Bayes, No Processing"
   ]
  },
  {
   "cell_type": "code",
   "execution_count": 31,
   "metadata": {},
   "outputs": [],
   "source": [
    "y = data[\"Popularity\"]\n",
    "X = data.iloc[:, 0:-4]"
   ]
  },
  {
   "cell_type": "code",
   "execution_count": 32,
   "metadata": {},
   "outputs": [],
   "source": [
    "X_train, X_test, y_train, y_test = train_test_split(X, y, test_size = 0.33, random_state = 273)"
   ]
  },
  {
   "cell_type": "code",
   "execution_count": 33,
   "metadata": {},
   "outputs": [
    {
     "name": "stdout",
     "output_type": "stream",
     "text": [
      "BernoulliNB()\n",
      "0.6121684628907743\n"
     ]
    }
   ],
   "source": [
    "BNB = BernoulliNB()\n",
    "\n",
    "BNB.fit(X_train, y_train)\n",
    "print(BNB)\n",
    "\n",
    "y_pred = BNB.predict(X_test)\n",
    "print(accuracy_score(y_test, y_pred))"
   ]
  },
  {
   "cell_type": "code",
   "execution_count": 34,
   "metadata": {},
   "outputs": [
    {
     "data": {
      "text/plain": [
       "0.604026579696461"
      ]
     },
     "execution_count": 34,
     "metadata": {},
     "output_type": "execute_result"
    }
   ],
   "source": [
    "naive_bayes_cv_score = cross_val_score(BNB, X, y, cv = 10)\n",
    "naive_bayes_cv_score.mean()"
   ]
  },
  {
   "cell_type": "markdown",
   "metadata": {},
   "source": [
    "### Random Forest, No Processing"
   ]
  },
  {
   "cell_type": "code",
   "execution_count": 35,
   "metadata": {},
   "outputs": [
    {
     "name": "stdout",
     "output_type": "stream",
     "text": [
      "0.657647328594359\n"
     ]
    }
   ],
   "source": [
    "RF = RandomForestClassifier(n_estimators = 100, random_state = 273) \n",
    "\n",
    "RF.fit(X_train, y_train)\n",
    "\n",
    "y_pred = RF.predict(X_test) \n",
    "print(accuracy_score(y_test, y_pred))"
   ]
  },
  {
   "cell_type": "code",
   "execution_count": 36,
   "metadata": {},
   "outputs": [
    {
     "data": {
      "text/plain": [
       "0.6392177835067946"
      ]
     },
     "execution_count": 36,
     "metadata": {},
     "output_type": "execute_result"
    }
   ],
   "source": [
    "rf_cv_score = cross_val_score(RF, X, y, cv = 10)\n",
    "rf_cv_score.mean()"
   ]
  },
  {
   "cell_type": "markdown",
   "metadata": {},
   "source": [
    "### K Nearest Neighbors, No Processing"
   ]
  },
  {
   "cell_type": "code",
   "execution_count": 37,
   "metadata": {},
   "outputs": [],
   "source": [
    "X_scaled = preprocessing.scale(X)"
   ]
  },
  {
   "cell_type": "code",
   "execution_count": 38,
   "metadata": {},
   "outputs": [],
   "source": [
    "X_scaled_train, X_scaled_test, y_train, y_test = train_test_split(X_scaled, y, test_size = 0.33, random_state = 273)"
   ]
  },
  {
   "cell_type": "code",
   "execution_count": 39,
   "metadata": {},
   "outputs": [],
   "source": [
    "errors = []\n",
    "for k in range(1, 26):\n",
    "    model = KNeighborsClassifier(n_neighbors = k)\n",
    "    model.fit(X_scaled_train, y_train)\n",
    "    pred_k = model.predict(X_scaled_test)\n",
    "    errors.append(np.mean(pred_k != y_test))"
   ]
  },
  {
   "cell_type": "code",
   "execution_count": 40,
   "metadata": {},
   "outputs": [
    {
     "data": {
      "text/plain": [
       "Text(0, 0.5, 'Error Rate')"
      ]
     },
     "execution_count": 40,
     "metadata": {},
     "output_type": "execute_result"
    },
    {
     "data": {
      "image/png": "[encoded data removed]",
      "text/plain": [
       "<Figure size 720x432 with 1 Axes>"
      ]
     },
     "metadata": {
      "needs_background": "light"
     },
     "output_type": "display_data"
    }
   ],
   "source": [
    "plt.figure(figsize=(10,6))\n",
    "plt.plot(range(1, 26), errors, color = \"blue\", linestyle = \"dashed\", marker = \"o\", markerfacecolor = \"red\", markersize=10)\n",
    "plt.title(\"Error Rate vs. K Value\")\n",
    "plt.xlabel(\"K\")\n",
    "plt.ylabel(\"Error Rate\")"
   ]
  },
  {
   "cell_type": "code",
   "execution_count": 41,
   "metadata": {},
   "outputs": [
    {
     "name": "stdout",
     "output_type": "stream",
     "text": [
      "0.6212642360314913\n"
     ]
    }
   ],
   "source": [
    "model = KNeighborsClassifier(n_neighbors = 9)\n",
    "model.fit(X_scaled_train, y_train)\n",
    "y_pred = model.predict(X_scaled_test)\n",
    "print(accuracy_score(y_test, y_pred))"
   ]
  },
  {
   "cell_type": "markdown",
   "metadata": {},
   "source": [
    "### Process the Data by Removing Highly Correlated Variables"
   ]
  },
  {
   "cell_type": "code",
   "execution_count": 42,
   "metadata": {},
   "outputs": [],
   "source": [
    "#The columns \"n_non_stop_words\", \"n_non_stop_unique_tokens\", \"kw_avg_min\", as these show high correlation with other variables\n",
    "X_process = data.copy()\n",
    "X.drop([\"n_non_stop_words\", \"n_non_stop_unique_tokens\", \"kw_avg_min\"], axis = 1, inplace = True)"
   ]
  },
  {
   "cell_type": "code",
   "execution_count": 43,
   "metadata": {},
   "outputs": [],
   "source": [
    "y = X_process[\"Popularity\"]\n",
    "X = X_process.iloc[:, 0:-4]"
   ]
  },
  {
   "cell_type": "code",
   "execution_count": 44,
   "metadata": {},
   "outputs": [],
   "source": [
    "X_transformed_train, X_transformed_test, y_train, y_test = train_test_split(X, y, test_size = 0.33, random_state = 273)"
   ]
  },
  {
   "cell_type": "markdown",
   "metadata": {},
   "source": [
    "#### Naive Bayes"
   ]
  },
  {
   "cell_type": "code",
   "execution_count": 45,
   "metadata": {},
   "outputs": [
    {
     "name": "stdout",
     "output_type": "stream",
     "text": [
      "0.6121684628907743\n"
     ]
    }
   ],
   "source": [
    "BNB = BernoulliNB()\n",
    "\n",
    "BNB.fit(X_transformed_train, y_train)\n",
    "y_pred = BNB.predict(X_transformed_test)\n",
    "print(accuracy_score(y_test, y_pred))"
   ]
  },
  {
   "cell_type": "code",
   "execution_count": 46,
   "metadata": {},
   "outputs": [
    {
     "data": {
      "text/plain": [
       "0.604026579696461"
      ]
     },
     "execution_count": 46,
     "metadata": {},
     "output_type": "execute_result"
    }
   ],
   "source": [
    "naive_bayes_cv_score = cross_val_score(BNB, X, y, cv = 10)\n",
    "naive_bayes_cv_score.mean()"
   ]
  },
  {
   "cell_type": "markdown",
   "metadata": {},
   "source": [
    "#### Random Forest"
   ]
  },
  {
   "cell_type": "code",
   "execution_count": 47,
   "metadata": {},
   "outputs": [
    {
     "name": "stdout",
     "output_type": "stream",
     "text": [
      "0.657647328594359\n"
     ]
    }
   ],
   "source": [
    "RF = RandomForestClassifier(n_estimators = 100, random_state = 273) \n",
    "\n",
    "RF.fit(X_transformed_train, y_train)\n",
    "\n",
    "y_pred = RF.predict(X_transformed_test) \n",
    "print(accuracy_score(y_test, y_pred))"
   ]
  },
  {
   "cell_type": "code",
   "execution_count": 48,
   "metadata": {},
   "outputs": [
    {
     "data": {
      "text/plain": [
       "0.6392177835067946"
      ]
     },
     "execution_count": 48,
     "metadata": {},
     "output_type": "execute_result"
    }
   ],
   "source": [
    "rf_cv_score = cross_val_score(RF, X, y, cv = 10)\n",
    "rf_cv_score.mean()"
   ]
  },
  {
   "cell_type": "markdown",
   "metadata": {},
   "source": [
    "#### K Nearest Neighbors"
   ]
  },
  {
   "cell_type": "code",
   "execution_count": 49,
   "metadata": {},
   "outputs": [],
   "source": [
    "X_scaled = preprocessing.scale(X)"
   ]
  },
  {
   "cell_type": "code",
   "execution_count": 50,
   "metadata": {},
   "outputs": [],
   "source": [
    "X_scaled_train, X_scaled_test, y_train, y_test = train_test_split(X_scaled, y, test_size = 0.33, random_state = 273)"
   ]
  },
  {
   "cell_type": "code",
   "execution_count": 51,
   "metadata": {},
   "outputs": [],
   "source": [
    "errors = []\n",
    "for k in range(1, 26):\n",
    "    model = KNeighborsClassifier(n_neighbors = k)\n",
    "    model.fit(X_scaled_train, y_train)\n",
    "    pred_k = model.predict(X_scaled_test)\n",
    "    errors.append(np.mean(pred_k != y_test))"
   ]
  },
  {
   "cell_type": "code",
   "execution_count": 52,
   "metadata": {},
   "outputs": [
    {
     "data": {
      "text/plain": [
       "Text(0, 0.5, 'Error Rate')"
      ]
     },
     "execution_count": 52,
     "metadata": {},
     "output_type": "execute_result"
    },
    {
     "data": {
      "image/png": "[encoded data removed]",
      "text/plain": [
       "<Figure size 720x432 with 1 Axes>"
      ]
     },
     "metadata": {
      "needs_background": "light"
     },
     "output_type": "display_data"
    }
   ],
   "source": [
    "plt.figure(figsize=(10,6))\n",
    "plt.plot(range(1, 26), errors, color = \"blue\", linestyle = \"dashed\", marker = \"o\", markerfacecolor = \"red\", markersize=10)\n",
    "plt.title(\"Error Rate vs. K Value\")\n",
    "plt.xlabel(\"K\")\n",
    "plt.ylabel(\"Error Rate\")"
   ]
  },
  {
   "cell_type": "code",
   "execution_count": 53,
   "metadata": {},
   "outputs": [
    {
     "name": "stdout",
     "output_type": "stream",
     "text": [
      "0.6212642360314913\n"
     ]
    }
   ],
   "source": [
    "model = KNeighborsClassifier(n_neighbors = 9)\n",
    "model.fit(X_scaled_train, y_train)\n",
    "y_pred = model.predict(X_scaled_test)\n",
    "print(accuracy_score(y_test, y_pred))"
   ]
  },
  {
   "cell_type": "markdown",
   "metadata": {},
   "source": [
    "### Process the Data by Removing Rows Where the Articles Have No Words"
   ]
  },
  {
   "cell_type": "code",
   "execution_count": 54,
   "metadata": {},
   "outputs": [
    {
     "data": {
      "text/html": [
       "<div>\n",
       "<style scoped>\n",
       "    .dataframe tbody tr th:only-of-type {\n",
       "        vertical-align: middle;\n",
       "    }\n",
       "\n",
       "    .dataframe tbody tr th {\n",
       "        vertical-align: top;\n",
       "    }\n",
       "\n",
       "    .dataframe thead th {\n",
       "        text-align: right;\n",
       "    }\n",
       "</style>\n",
       "<table border=\"1\" class=\"dataframe\">\n",
       "  <thead>\n",
       "    <tr style=\"text-align: right;\">\n",
       "      <th></th>\n",
       "      <th>n_tokens_title</th>\n",
       "      <th>n_tokens_content</th>\n",
       "      <th>n_unique_tokens</th>\n",
       "      <th>n_non_stop_words</th>\n",
       "      <th>n_non_stop_unique_tokens</th>\n",
       "      <th>num_hrefs</th>\n",
       "      <th>num_self_hrefs</th>\n",
       "      <th>num_imgs</th>\n",
       "      <th>num_videos</th>\n",
       "      <th>average_token_length</th>\n",
       "      <th>...</th>\n",
       "      <th>min_positive_polarity</th>\n",
       "      <th>max_positive_polarity</th>\n",
       "      <th>avg_negative_polarity</th>\n",
       "      <th>min_negative_polarity</th>\n",
       "      <th>max_negative_polarity</th>\n",
       "      <th>title_subjectivity</th>\n",
       "      <th>title_sentiment_polarity</th>\n",
       "      <th>abs_title_subjectivity</th>\n",
       "      <th>abs_title_sentiment_polarity</th>\n",
       "      <th>shares</th>\n",
       "    </tr>\n",
       "  </thead>\n",
       "  <tbody>\n",
       "    <tr>\n",
       "      <th>count</th>\n",
       "      <td>38463.000000</td>\n",
       "      <td>38463.000000</td>\n",
       "      <td>38463.000000</td>\n",
       "      <td>38463.000000</td>\n",
       "      <td>38463.000000</td>\n",
       "      <td>38463.000000</td>\n",
       "      <td>38463.000000</td>\n",
       "      <td>38463.000000</td>\n",
       "      <td>38463.000000</td>\n",
       "      <td>38463.000000</td>\n",
       "      <td>...</td>\n",
       "      <td>38463.000000</td>\n",
       "      <td>38463.000000</td>\n",
       "      <td>38463.000000</td>\n",
       "      <td>38463.000000</td>\n",
       "      <td>38463.000000</td>\n",
       "      <td>38463.000000</td>\n",
       "      <td>38463.000000</td>\n",
       "      <td>38463.000000</td>\n",
       "      <td>38463.000000</td>\n",
       "      <td>38463.000000</td>\n",
       "    </tr>\n",
       "    <tr>\n",
       "      <th>mean</th>\n",
       "      <td>10.382419</td>\n",
       "      <td>563.295375</td>\n",
       "      <td>0.565049</td>\n",
       "      <td>1.027065</td>\n",
       "      <td>0.710336</td>\n",
       "      <td>11.217872</td>\n",
       "      <td>3.394769</td>\n",
       "      <td>4.563061</td>\n",
       "      <td>1.263786</td>\n",
       "      <td>4.687892</td>\n",
       "      <td>...</td>\n",
       "      <td>0.098376</td>\n",
       "      <td>0.779963</td>\n",
       "      <td>-0.267493</td>\n",
       "      <td>-0.537970</td>\n",
       "      <td>-0.110801</td>\n",
       "      <td>0.280573</td>\n",
       "      <td>0.070997</td>\n",
       "      <td>0.342431</td>\n",
       "      <td>0.154930</td>\n",
       "      <td>3355.360398</td>\n",
       "    </tr>\n",
       "    <tr>\n",
       "      <th>std</th>\n",
       "      <td>2.113800</td>\n",
       "      <td>468.299538</td>\n",
       "      <td>3.573022</td>\n",
       "      <td>5.307978</td>\n",
       "      <td>3.312293</td>\n",
       "      <td>11.340580</td>\n",
       "      <td>3.869773</td>\n",
       "      <td>8.295365</td>\n",
       "      <td>4.164896</td>\n",
       "      <td>0.283231</td>\n",
       "      <td>...</td>\n",
       "      <td>0.070382</td>\n",
       "      <td>0.212509</td>\n",
       "      <td>0.121174</td>\n",
       "      <td>0.279703</td>\n",
       "      <td>0.094919</td>\n",
       "      <td>0.323561</td>\n",
       "      <td>0.264338</td>\n",
       "      <td>0.188606</td>\n",
       "      <td>0.225636</td>\n",
       "      <td>11585.968776</td>\n",
       "    </tr>\n",
       "    <tr>\n",
       "      <th>min</th>\n",
       "      <td>2.000000</td>\n",
       "      <td>18.000000</td>\n",
       "      <td>0.114964</td>\n",
       "      <td>1.000000</td>\n",
       "      <td>0.119134</td>\n",
       "      <td>0.000000</td>\n",
       "      <td>0.000000</td>\n",
       "      <td>0.000000</td>\n",
       "      <td>0.000000</td>\n",
       "      <td>3.600000</td>\n",
       "      <td>...</td>\n",
       "      <td>0.000000</td>\n",
       "      <td>0.000000</td>\n",
       "      <td>-1.000000</td>\n",
       "      <td>-1.000000</td>\n",
       "      <td>-1.000000</td>\n",
       "      <td>0.000000</td>\n",
       "      <td>-1.000000</td>\n",
       "      <td>0.000000</td>\n",
       "      <td>0.000000</td>\n",
       "      <td>1.000000</td>\n",
       "    </tr>\n",
       "    <tr>\n",
       "      <th>25%</th>\n",
       "      <td>9.000000</td>\n",
       "      <td>259.000000</td>\n",
       "      <td>0.477419</td>\n",
       "      <td>1.000000</td>\n",
       "      <td>0.632588</td>\n",
       "      <td>5.000000</td>\n",
       "      <td>1.000000</td>\n",
       "      <td>1.000000</td>\n",
       "      <td>0.000000</td>\n",
       "      <td>4.496250</td>\n",
       "      <td>...</td>\n",
       "      <td>0.050000</td>\n",
       "      <td>0.600000</td>\n",
       "      <td>-0.331532</td>\n",
       "      <td>-0.714286</td>\n",
       "      <td>-0.125000</td>\n",
       "      <td>0.000000</td>\n",
       "      <td>0.000000</td>\n",
       "      <td>0.166667</td>\n",
       "      <td>0.000000</td>\n",
       "      <td>945.000000</td>\n",
       "    </tr>\n",
       "    <tr>\n",
       "      <th>50%</th>\n",
       "      <td>10.000000</td>\n",
       "      <td>423.000000</td>\n",
       "      <td>0.542986</td>\n",
       "      <td>1.000000</td>\n",
       "      <td>0.693727</td>\n",
       "      <td>8.000000</td>\n",
       "      <td>3.000000</td>\n",
       "      <td>1.000000</td>\n",
       "      <td>0.000000</td>\n",
       "      <td>4.674121</td>\n",
       "      <td>...</td>\n",
       "      <td>0.100000</td>\n",
       "      <td>0.800000</td>\n",
       "      <td>-0.257738</td>\n",
       "      <td>-0.500000</td>\n",
       "      <td>-0.100000</td>\n",
       "      <td>0.125000</td>\n",
       "      <td>0.000000</td>\n",
       "      <td>0.500000</td>\n",
       "      <td>0.000000</td>\n",
       "      <td>1400.000000</td>\n",
       "    </tr>\n",
       "    <tr>\n",
       "      <th>75%</th>\n",
       "      <td>12.000000</td>\n",
       "      <td>729.000000</td>\n",
       "      <td>0.611111</td>\n",
       "      <td>1.000000</td>\n",
       "      <td>0.756944</td>\n",
       "      <td>14.000000</td>\n",
       "      <td>4.000000</td>\n",
       "      <td>4.000000</td>\n",
       "      <td>1.000000</td>\n",
       "      <td>4.861901</td>\n",
       "      <td>...</td>\n",
       "      <td>0.100000</td>\n",
       "      <td>1.000000</td>\n",
       "      <td>-0.193415</td>\n",
       "      <td>-0.312500</td>\n",
       "      <td>-0.050000</td>\n",
       "      <td>0.500000</td>\n",
       "      <td>0.136364</td>\n",
       "      <td>0.500000</td>\n",
       "      <td>0.250000</td>\n",
       "      <td>2700.000000</td>\n",
       "    </tr>\n",
       "    <tr>\n",
       "      <th>max</th>\n",
       "      <td>23.000000</td>\n",
       "      <td>8474.000000</td>\n",
       "      <td>701.000000</td>\n",
       "      <td>1042.000000</td>\n",
       "      <td>650.000000</td>\n",
       "      <td>304.000000</td>\n",
       "      <td>116.000000</td>\n",
       "      <td>128.000000</td>\n",
       "      <td>91.000000</td>\n",
       "      <td>8.041534</td>\n",
       "      <td>...</td>\n",
       "      <td>1.000000</td>\n",
       "      <td>1.000000</td>\n",
       "      <td>0.000000</td>\n",
       "      <td>0.000000</td>\n",
       "      <td>0.000000</td>\n",
       "      <td>1.000000</td>\n",
       "      <td>1.000000</td>\n",
       "      <td>0.500000</td>\n",
       "      <td>1.000000</td>\n",
       "      <td>843300.000000</td>\n",
       "    </tr>\n",
       "  </tbody>\n",
       "</table>\n",
       "<p>8 rows × 59 columns</p>\n",
       "</div>"
      ],
      "text/plain": [
       "       n_tokens_title  n_tokens_content  n_unique_tokens  n_non_stop_words  \\\n",
       "count    38463.000000      38463.000000     38463.000000      38463.000000   \n",
       "mean        10.382419        563.295375         0.565049          1.027065   \n",
       "std          2.113800        468.299538         3.573022          5.307978   \n",
       "min          2.000000         18.000000         0.114964          1.000000   \n",
       "25%          9.000000        259.000000         0.477419          1.000000   \n",
       "50%         10.000000        423.000000         0.542986          1.000000   \n",
       "75%         12.000000        729.000000         0.611111          1.000000   \n",
       "max         23.000000       8474.000000       701.000000       1042.000000   \n",
       "\n",
       "       n_non_stop_unique_tokens     num_hrefs  num_self_hrefs      num_imgs  \\\n",
       "count              38463.000000  38463.000000    38463.000000  38463.000000   \n",
       "mean                   0.710336     11.217872        3.394769      4.563061   \n",
       "std                    3.312293     11.340580        3.869773      8.295365   \n",
       "min                    0.119134      0.000000        0.000000      0.000000   \n",
       "25%                    0.632588      5.000000        1.000000      1.000000   \n",
       "50%                    0.693727      8.000000        3.000000      1.000000   \n",
       "75%                    0.756944     14.000000        4.000000      4.000000   \n",
       "max                  650.000000    304.000000      116.000000    128.000000   \n",
       "\n",
       "         num_videos  average_token_length  ...  min_positive_polarity  \\\n",
       "count  38463.000000          38463.000000  ...           38463.000000   \n",
       "mean       1.263786              4.687892  ...               0.098376   \n",
       "std        4.164896              0.283231  ...               0.070382   \n",
       "min        0.000000              3.600000  ...               0.000000   \n",
       "25%        0.000000              4.496250  ...               0.050000   \n",
       "50%        0.000000              4.674121  ...               0.100000   \n",
       "75%        1.000000              4.861901  ...               0.100000   \n",
       "max       91.000000              8.041534  ...               1.000000   \n",
       "\n",
       "       max_positive_polarity  avg_negative_polarity  min_negative_polarity  \\\n",
       "count           38463.000000           38463.000000           38463.000000   \n",
       "mean                0.779963              -0.267493              -0.537970   \n",
       "std                 0.212509               0.121174               0.279703   \n",
       "min                 0.000000              -1.000000              -1.000000   \n",
       "25%                 0.600000              -0.331532              -0.714286   \n",
       "50%                 0.800000              -0.257738              -0.500000   \n",
       "75%                 1.000000              -0.193415              -0.312500   \n",
       "max                 1.000000               0.000000               0.000000   \n",
       "\n",
       "       max_negative_polarity  title_subjectivity  title_sentiment_polarity  \\\n",
       "count           38463.000000        38463.000000              38463.000000   \n",
       "mean               -0.110801            0.280573                  0.070997   \n",
       "std                 0.094919            0.323561                  0.264338   \n",
       "min                -1.000000            0.000000                 -1.000000   \n",
       "25%                -0.125000            0.000000                  0.000000   \n",
       "50%                -0.100000            0.125000                  0.000000   \n",
       "75%                -0.050000            0.500000                  0.136364   \n",
       "max                 0.000000            1.000000                  1.000000   \n",
       "\n",
       "       abs_title_subjectivity  abs_title_sentiment_polarity         shares  \n",
       "count            38463.000000                  38463.000000   38463.000000  \n",
       "mean                 0.342431                      0.154930    3355.360398  \n",
       "std                  0.188606                      0.225636   11585.968776  \n",
       "min                  0.000000                      0.000000       1.000000  \n",
       "25%                  0.166667                      0.000000     945.000000  \n",
       "50%                  0.500000                      0.000000    1400.000000  \n",
       "75%                  0.500000                      0.250000    2700.000000  \n",
       "max                  0.500000                      1.000000  843300.000000  \n",
       "\n",
       "[8 rows x 59 columns]"
      ]
     },
     "execution_count": 54,
     "metadata": {},
     "output_type": "execute_result"
    }
   ],
   "source": [
    "data_with_words = data[data[\"n_tokens_content\"] > 0]\n",
    "data_with_words.reset_index(inplace = True, drop = True)\n",
    "data_with_words.describe()"
   ]
  },
  {
   "cell_type": "code",
   "execution_count": 55,
   "metadata": {},
   "outputs": [
    {
     "name": "stderr",
     "output_type": "stream",
     "text": [
      "<ipython-input-55-a9f819a625b8>:8: SettingWithCopyWarning: \n",
      "A value is trying to be set on a copy of a slice from a DataFrame.\n",
      "Try using .loc[row_indexer,col_indexer] = value instead\n",
      "\n",
      "See the caveats in the documentation: https://pandas.pydata.org/pandas-docs/stable/user_guide/indexing.html#returning-a-view-versus-a-copy\n",
      "  data_with_words[\"Popularity\"] = popularity\n"
     ]
    }
   ],
   "source": [
    "min_shares = data_with_words[\"shares\"].min() - 1\n",
    "shares_50 = data_with_words[\"shares\"].quantile(.50)\n",
    "max_shares = data_with_words[\"shares\"].max() + 1\n",
    "\n",
    "popularity = pd.cut(data_with_words[\"shares\"], bins = [min_shares, shares_50, max_shares], \n",
    "       labels = [\"Low\", \"High\"])\n",
    "\n",
    "data_with_words[\"Popularity\"] = popularity"
   ]
  },
  {
   "cell_type": "code",
   "execution_count": 56,
   "metadata": {},
   "outputs": [],
   "source": [
    "X_process = data_with_words.copy()\n",
    "\n",
    "y = X_process[\"Popularity\"]\n",
    "X = X_process.iloc[:, 0:-4]"
   ]
  },
  {
   "cell_type": "code",
   "execution_count": 57,
   "metadata": {},
   "outputs": [],
   "source": [
    "X_transformed_train, X_transformed_test, y_train, y_test = train_test_split(X, y, test_size = 0.33, random_state = 273)"
   ]
  },
  {
   "cell_type": "markdown",
   "metadata": {},
   "source": [
    "#### Naive Bayes"
   ]
  },
  {
   "cell_type": "code",
   "execution_count": 58,
   "metadata": {},
   "outputs": [
    {
     "name": "stdout",
     "output_type": "stream",
     "text": [
      "0.6014338611833294\n"
     ]
    }
   ],
   "source": [
    "BNB = BernoulliNB()\n",
    "\n",
    "BNB.fit(X_transformed_train, y_train)\n",
    "y_pred = BNB.predict(X_transformed_test)\n",
    "print(accuracy_score(y_test, y_pred))"
   ]
  },
  {
   "cell_type": "code",
   "execution_count": 59,
   "metadata": {},
   "outputs": [
    {
     "data": {
      "text/plain": [
       "0.6076502197077744"
      ]
     },
     "execution_count": 59,
     "metadata": {},
     "output_type": "execute_result"
    }
   ],
   "source": [
    "naive_bayes_cv_score = cross_val_score(BNB, X, y, cv = 10)\n",
    "naive_bayes_cv_score.mean()"
   ]
  },
  {
   "cell_type": "markdown",
   "metadata": {},
   "source": [
    "#### Random Forest"
   ]
  },
  {
   "cell_type": "code",
   "execution_count": 60,
   "metadata": {},
   "outputs": [
    {
     "name": "stdout",
     "output_type": "stream",
     "text": [
      "0.6628062711730875\n"
     ]
    }
   ],
   "source": [
    "RF = RandomForestClassifier(n_estimators = 100, random_state = 273) \n",
    "\n",
    "RF.fit(X_transformed_train, y_train)\n",
    "\n",
    "y_pred = RF.predict(X_transformed_test) \n",
    "print(accuracy_score(y_test, y_pred))"
   ]
  },
  {
   "cell_type": "code",
   "execution_count": 61,
   "metadata": {},
   "outputs": [
    {
     "data": {
      "text/plain": [
       "0.64041234121421"
      ]
     },
     "execution_count": 61,
     "metadata": {},
     "output_type": "execute_result"
    }
   ],
   "source": [
    "rf_cv_score = cross_val_score(RF, X, y, cv = 10)\n",
    "rf_cv_score.mean()"
   ]
  },
  {
   "cell_type": "markdown",
   "metadata": {},
   "source": [
    "#### K Nearest Neighbors"
   ]
  },
  {
   "cell_type": "code",
   "execution_count": 62,
   "metadata": {},
   "outputs": [],
   "source": [
    "X_scaled = preprocessing.scale(X)"
   ]
  },
  {
   "cell_type": "code",
   "execution_count": 63,
   "metadata": {},
   "outputs": [],
   "source": [
    "X_scaled_train, X_scaled_test, y_train, y_test = train_test_split(X_scaled, y, test_size = 0.33, random_state = 273)"
   ]
  },
  {
   "cell_type": "code",
   "execution_count": 64,
   "metadata": {},
   "outputs": [],
   "source": [
    "errors = []\n",
    "for k in range(1, 26):\n",
    "    model = KNeighborsClassifier(n_neighbors = k)\n",
    "    model.fit(X_scaled_train, y_train)\n",
    "    pred_k = model.predict(X_scaled_test)\n",
    "    errors.append(np.mean(pred_k != y_test))"
   ]
  },
  {
   "cell_type": "code",
   "execution_count": 65,
   "metadata": {},
   "outputs": [
    {
     "data": {
      "text/plain": [
       "Text(0, 0.5, 'Error Rate')"
      ]
     },
     "execution_count": 65,
     "metadata": {},
     "output_type": "execute_result"
    },
    {
     "data": {
      "image/png": "[encoded data removed]",
      "text/plain": [
       "<Figure size 720x432 with 1 Axes>"
      ]
     },
     "metadata": {
      "needs_background": "light"
     },
     "output_type": "display_data"
    }
   ],
   "source": [
    "plt.figure(figsize=(10,6))\n",
    "plt.plot(range(1, 26), errors, color = \"blue\", linestyle = \"dashed\", marker = \"o\", markerfacecolor = \"red\", markersize=10)\n",
    "plt.title(\"Error Rate vs. K Value\")\n",
    "plt.xlabel(\"K\")\n",
    "plt.ylabel(\"Error Rate\")"
   ]
  },
  {
   "cell_type": "code",
   "execution_count": 66,
   "metadata": {},
   "outputs": [
    {
     "name": "stdout",
     "output_type": "stream",
     "text": [
      "0.621366107303238\n"
     ]
    }
   ],
   "source": [
    "model = KNeighborsClassifier(n_neighbors = 11)\n",
    "model.fit(X_scaled_train, y_train)\n",
    "y_pred = model.predict(X_scaled_test)\n",
    "print(accuracy_score(y_test, y_pred))"
   ]
  },
  {
   "cell_type": "markdown",
   "metadata": {},
   "source": [
    "### Process the Data by Removing Articles With More Than 2500 Shares"
   ]
  },
  {
   "cell_type": "code",
   "execution_count": 67,
   "metadata": {},
   "outputs": [
    {
     "data": {
      "text/plain": [
       "(array([ 211.,  714., 3333., 6014., 6478., 3332., 2460., 2712., 1435.,\n",
       "        1648.]),\n",
       " array([1.0000e+00, 2.4090e+02, 4.8080e+02, 7.2070e+02, 9.6060e+02,\n",
       "        1.2005e+03, 1.4404e+03, 1.6803e+03, 1.9202e+03, 2.1601e+03,\n",
       "        2.4000e+03]),\n",
       " <BarContainer object of 10 artists>)"
      ]
     },
     "execution_count": 67,
     "metadata": {},
     "output_type": "execute_result"
    },
    {
     "data": {
      "image/png": "[encoded data removed]",
      "text/plain": [
       "<Figure size 432x288 with 1 Axes>"
      ]
     },
     "metadata": {
      "needs_background": "light"
     },
     "output_type": "display_data"
    }
   ],
   "source": [
    "X_process = data[data[\"shares\"] < 2500]\n",
    "plt.hist(X_process[\"shares\"])"
   ]
  },
  {
   "cell_type": "code",
   "execution_count": 68,
   "metadata": {},
   "outputs": [
    {
     "name": "stderr",
     "output_type": "stream",
     "text": [
      "<ipython-input-68-1fd07f06a2a4>:8: SettingWithCopyWarning: \n",
      "A value is trying to be set on a copy of a slice from a DataFrame.\n",
      "Try using .loc[row_indexer,col_indexer] = value instead\n",
      "\n",
      "See the caveats in the documentation: https://pandas.pydata.org/pandas-docs/stable/user_guide/indexing.html#returning-a-view-versus-a-copy\n",
      "  X_process[\"Popularity\"] = popularity\n"
     ]
    }
   ],
   "source": [
    "min_shares = X_process[\"shares\"].min() - 1\n",
    "shares_50 = X_process[\"shares\"].quantile(.50)\n",
    "max_shares = X_process[\"shares\"].max() + 1\n",
    "\n",
    "popularity = pd.cut(X_process[\"shares\"], bins = [min_shares, shares_50, max_shares], \n",
    "       labels = [\"Low\", \"High\"])\n",
    "\n",
    "X_process[\"Popularity\"] = popularity"
   ]
  },
  {
   "cell_type": "code",
   "execution_count": 69,
   "metadata": {},
   "outputs": [],
   "source": [
    "y = X_process[\"Popularity\"]\n",
    "X = X_process.iloc[:, 0:-4]"
   ]
  },
  {
   "cell_type": "code",
   "execution_count": 70,
   "metadata": {},
   "outputs": [],
   "source": [
    "X_transformed_train, X_transformed_test, y_train, y_test = train_test_split(X, y, test_size = 0.33, random_state = 273)"
   ]
  },
  {
   "cell_type": "markdown",
   "metadata": {},
   "source": [
    "#### Naive Bayes"
   ]
  },
  {
   "cell_type": "code",
   "execution_count": 71,
   "metadata": {},
   "outputs": [
    {
     "name": "stdout",
     "output_type": "stream",
     "text": [
      "0.6097091531223268\n"
     ]
    }
   ],
   "source": [
    "BNB = BernoulliNB()\n",
    "\n",
    "BNB.fit(X_transformed_train, y_train)\n",
    "y_pred = BNB.predict(X_transformed_test)\n",
    "print(accuracy_score(y_test, y_pred))"
   ]
  },
  {
   "cell_type": "code",
   "execution_count": 72,
   "metadata": {},
   "outputs": [
    {
     "data": {
      "text/plain": [
       "0.6117805174970562"
      ]
     },
     "execution_count": 72,
     "metadata": {},
     "output_type": "execute_result"
    }
   ],
   "source": [
    "naive_bayes_cv_score = cross_val_score(BNB, X, y, cv = 10)\n",
    "naive_bayes_cv_score.mean()"
   ]
  },
  {
   "cell_type": "markdown",
   "metadata": {},
   "source": [
    "#### Random Forest"
   ]
  },
  {
   "cell_type": "code",
   "execution_count": 73,
   "metadata": {},
   "outputs": [
    {
     "name": "stdout",
     "output_type": "stream",
     "text": [
      "0.6350513259195893\n"
     ]
    }
   ],
   "source": [
    "RF = RandomForestClassifier(n_estimators = 100, random_state = 273) \n",
    "\n",
    "RF.fit(X_transformed_train, y_train)\n",
    "\n",
    "y_pred = RF.predict(X_transformed_test) \n",
    "print(accuracy_score(y_test, y_pred))"
   ]
  },
  {
   "cell_type": "code",
   "execution_count": 74,
   "metadata": {},
   "outputs": [
    {
     "data": {
      "text/plain": [
       "0.6176052925982491"
      ]
     },
     "execution_count": 74,
     "metadata": {},
     "output_type": "execute_result"
    }
   ],
   "source": [
    "rf_cv_score = cross_val_score(RF, X, y, cv = 10)\n",
    "rf_cv_score.mean()"
   ]
  },
  {
   "cell_type": "markdown",
   "metadata": {},
   "source": [
    "#### K Nearest Neighbors"
   ]
  },
  {
   "cell_type": "code",
   "execution_count": 75,
   "metadata": {},
   "outputs": [],
   "source": [
    "X_scaled = preprocessing.scale(X)"
   ]
  },
  {
   "cell_type": "code",
   "execution_count": 76,
   "metadata": {},
   "outputs": [],
   "source": [
    "X_scaled_train, X_scaled_test, y_train, y_test = train_test_split(X_scaled, y, test_size = 0.33, random_state = 273)"
   ]
  },
  {
   "cell_type": "code",
   "execution_count": 77,
   "metadata": {},
   "outputs": [],
   "source": [
    "errors = []\n",
    "for k in range(1, 26):\n",
    "    model = KNeighborsClassifier(n_neighbors = k)\n",
    "    model.fit(X_scaled_train, y_train)\n",
    "    pred_k = model.predict(X_scaled_test)\n",
    "    errors.append(np.mean(pred_k != y_test))"
   ]
  },
  {
   "cell_type": "code",
   "execution_count": 78,
   "metadata": {},
   "outputs": [
    {
     "data": {
      "text/plain": [
       "Text(0, 0.5, 'Error Rate')"
      ]
     },
     "execution_count": 78,
     "metadata": {},
     "output_type": "execute_result"
    },
    {
     "data": {
      "image/png": "[encoded data removed]",
      "text/plain": [
       "<Figure size 720x432 with 1 Axes>"
      ]
     },
     "metadata": {
      "needs_background": "light"
     },
     "output_type": "display_data"
    }
   ],
   "source": [
    "plt.figure(figsize=(10,6))\n",
    "plt.plot(range(1, 26), errors, color = \"blue\", linestyle = \"dashed\", marker = \"o\", markerfacecolor = \"red\", markersize=10)\n",
    "plt.title(\"Error Rate vs. K Value\")\n",
    "plt.xlabel(\"K\")\n",
    "plt.ylabel(\"Error Rate\")"
   ]
  },
  {
   "cell_type": "code",
   "execution_count": 79,
   "metadata": {},
   "outputs": [
    {
     "name": "stdout",
     "output_type": "stream",
     "text": [
      "0.5915312232677502\n"
     ]
    }
   ],
   "source": [
    "model = KNeighborsClassifier(n_neighbors = 6)\n",
    "model.fit(X_scaled_train, y_train)\n",
    "y_pred = model.predict(X_scaled_test)\n",
    "print(accuracy_score(y_test, y_pred))"
   ]
  },
  {
   "cell_type": "markdown",
   "metadata": {},
   "source": [
    "### Process the Data by Performing Feature Selection on the Data"
   ]
  },
  {
   "cell_type": "code",
   "execution_count": 81,
   "metadata": {},
   "outputs": [],
   "source": [
    "X_process = data.copy()\n",
    "\n",
    "y = X_process[\"Popularity\"]\n",
    "X = X_process.iloc[:, 0:-4]"
   ]
  },
  {
   "cell_type": "code",
   "execution_count": 82,
   "metadata": {},
   "outputs": [],
   "source": [
    "X_transformed_train, X_transformed_test, y_train, y_test = train_test_split(X, y, test_size = 0.33, random_state = 273)"
   ]
  },
  {
   "cell_type": "code",
   "execution_count": 83,
   "metadata": {},
   "outputs": [],
   "source": [
    "mutual_info = mutual_info_classif\n",
    "info = mutual_info(X_transformed_train, y_train)\n",
    "info_dict = dict(list(enumerate(info)))\n",
    "values = sorted(info_dict.values(), reverse = True)"
   ]
  },
  {
   "cell_type": "code",
   "execution_count": 84,
   "metadata": {},
   "outputs": [
    {
     "data": {
      "text/html": [
       "<div>\n",
       "<style scoped>\n",
       "    .dataframe tbody tr th:only-of-type {\n",
       "        vertical-align: middle;\n",
       "    }\n",
       "\n",
       "    .dataframe tbody tr th {\n",
       "        vertical-align: top;\n",
       "    }\n",
       "\n",
       "    .dataframe thead th {\n",
       "        text-align: right;\n",
       "    }\n",
       "</style>\n",
       "<table border=\"1\" class=\"dataframe\">\n",
       "  <thead>\n",
       "    <tr style=\"text-align: right;\">\n",
       "      <th></th>\n",
       "      <th>variable</th>\n",
       "      <th>info_gain</th>\n",
       "    </tr>\n",
       "  </thead>\n",
       "  <tbody>\n",
       "    <tr>\n",
       "      <th>24</th>\n",
       "      <td>kw_max_avg</td>\n",
       "      <td>0.031064</td>\n",
       "    </tr>\n",
       "    <tr>\n",
       "      <th>39</th>\n",
       "      <td>LDA_02</td>\n",
       "      <td>0.030224</td>\n",
       "    </tr>\n",
       "    <tr>\n",
       "      <th>38</th>\n",
       "      <td>LDA_01</td>\n",
       "      <td>0.027087</td>\n",
       "    </tr>\n",
       "    <tr>\n",
       "      <th>26</th>\n",
       "      <td>self_reference_min_shares</td>\n",
       "      <td>0.025687</td>\n",
       "    </tr>\n",
       "    <tr>\n",
       "      <th>18</th>\n",
       "      <td>kw_max_min</td>\n",
       "      <td>0.024862</td>\n",
       "    </tr>\n",
       "    <tr>\n",
       "      <th>41</th>\n",
       "      <td>LDA_04</td>\n",
       "      <td>0.023787</td>\n",
       "    </tr>\n",
       "    <tr>\n",
       "      <th>40</th>\n",
       "      <td>LDA_03</td>\n",
       "      <td>0.023380</td>\n",
       "    </tr>\n",
       "    <tr>\n",
       "      <th>25</th>\n",
       "      <td>kw_avg_avg</td>\n",
       "      <td>0.022840</td>\n",
       "    </tr>\n",
       "    <tr>\n",
       "      <th>23</th>\n",
       "      <td>kw_min_avg</td>\n",
       "      <td>0.021037</td>\n",
       "    </tr>\n",
       "    <tr>\n",
       "      <th>27</th>\n",
       "      <td>self_reference_max_shares</td>\n",
       "      <td>0.018162</td>\n",
       "    </tr>\n",
       "    <tr>\n",
       "      <th>28</th>\n",
       "      <td>self_reference_avg_sharess</td>\n",
       "      <td>0.018034</td>\n",
       "    </tr>\n",
       "    <tr>\n",
       "      <th>22</th>\n",
       "      <td>kw_avg_max</td>\n",
       "      <td>0.017915</td>\n",
       "    </tr>\n",
       "    <tr>\n",
       "      <th>37</th>\n",
       "      <td>LDA_00</td>\n",
       "      <td>0.016826</td>\n",
       "    </tr>\n",
       "    <tr>\n",
       "      <th>20</th>\n",
       "      <td>kw_min_max</td>\n",
       "      <td>0.016554</td>\n",
       "    </tr>\n",
       "    <tr>\n",
       "      <th>16</th>\n",
       "      <td>data_channel_is_world</td>\n",
       "      <td>0.014570</td>\n",
       "    </tr>\n",
       "    <tr>\n",
       "      <th>36</th>\n",
       "      <td>is_weekend</td>\n",
       "      <td>0.011185</td>\n",
       "    </tr>\n",
       "    <tr>\n",
       "      <th>19</th>\n",
       "      <td>kw_avg_min</td>\n",
       "      <td>0.011167</td>\n",
       "    </tr>\n",
       "    <tr>\n",
       "      <th>47</th>\n",
       "      <td>rate_negative_words</td>\n",
       "      <td>0.008941</td>\n",
       "    </tr>\n",
       "    <tr>\n",
       "      <th>5</th>\n",
       "      <td>num_hrefs</td>\n",
       "      <td>0.008450</td>\n",
       "    </tr>\n",
       "    <tr>\n",
       "      <th>12</th>\n",
       "      <td>data_channel_is_entertainment</td>\n",
       "      <td>0.007920</td>\n",
       "    </tr>\n",
       "  </tbody>\n",
       "</table>\n",
       "</div>"
      ],
      "text/plain": [
       "                         variable  info_gain\n",
       "24                     kw_max_avg   0.031064\n",
       "39                         LDA_02   0.030224\n",
       "38                         LDA_01   0.027087\n",
       "26      self_reference_min_shares   0.025687\n",
       "18                     kw_max_min   0.024862\n",
       "41                         LDA_04   0.023787\n",
       "40                         LDA_03   0.023380\n",
       "25                     kw_avg_avg   0.022840\n",
       "23                     kw_min_avg   0.021037\n",
       "27      self_reference_max_shares   0.018162\n",
       "28     self_reference_avg_sharess   0.018034\n",
       "22                     kw_avg_max   0.017915\n",
       "37                         LDA_00   0.016826\n",
       "20                     kw_min_max   0.016554\n",
       "16          data_channel_is_world   0.014570\n",
       "36                     is_weekend   0.011185\n",
       "19                     kw_avg_min   0.011167\n",
       "47            rate_negative_words   0.008941\n",
       "5                       num_hrefs   0.008450\n",
       "12  data_channel_is_entertainment   0.007920"
      ]
     },
     "execution_count": 84,
     "metadata": {},
     "output_type": "execute_result"
    }
   ],
   "source": [
    "info_gain = pd.DataFrame(info_dict, index = [0]).transpose()\n",
    "info_gain.columns = [\"info_gain\"]\n",
    "info_gain[\"variable\"] = list(X.columns)\n",
    "info_gain = info_gain.iloc[:, [-1,0]].sort_values(by = \"info_gain\", ascending = False)\n",
    "info_gain.head(20)"
   ]
  },
  {
   "cell_type": "code",
   "execution_count": 85,
   "metadata": {},
   "outputs": [],
   "source": [
    "top_17 = list(info_gain[0:17].index)"
   ]
  },
  {
   "cell_type": "code",
   "execution_count": 86,
   "metadata": {},
   "outputs": [],
   "source": [
    "X = X.iloc[:, top_17]"
   ]
  },
  {
   "cell_type": "code",
   "execution_count": 87,
   "metadata": {},
   "outputs": [],
   "source": [
    "X_transformed_train, X_transformed_test, y_train, y_test = train_test_split(X, y, test_size = 0.33, random_state = 273)"
   ]
  },
  {
   "cell_type": "markdown",
   "metadata": {},
   "source": [
    "#### Naive Bayes"
   ]
  },
  {
   "cell_type": "code",
   "execution_count": 88,
   "metadata": {},
   "outputs": [
    {
     "name": "stdout",
     "output_type": "stream",
     "text": [
      "0.5530841550103187\n"
     ]
    }
   ],
   "source": [
    "BNB = BernoulliNB()\n",
    "\n",
    "BNB.fit(X_transformed_train, y_train)\n",
    "y_pred = BNB.predict(X_transformed_test)\n",
    "print(accuracy_score(y_test, y_pred))"
   ]
  },
  {
   "cell_type": "code",
   "execution_count": 89,
   "metadata": {},
   "outputs": [
    {
     "data": {
      "text/plain": [
       "0.5604150150853267"
      ]
     },
     "execution_count": 89,
     "metadata": {},
     "output_type": "execute_result"
    }
   ],
   "source": [
    "naive_bayes_cv_score = cross_val_score(BNB, X, y, cv = 10)\n",
    "naive_bayes_cv_score.mean()"
   ]
  },
  {
   "cell_type": "markdown",
   "metadata": {},
   "source": [
    "#### Random Forest"
   ]
  },
  {
   "cell_type": "code",
   "execution_count": 90,
   "metadata": {},
   "outputs": [
    {
     "name": "stdout",
     "output_type": "stream",
     "text": [
      "0.6388443017656501\n"
     ]
    }
   ],
   "source": [
    "RF = RandomForestClassifier(n_estimators = 100, random_state = 273) \n",
    "\n",
    "RF.fit(X_transformed_train, y_train)\n",
    "\n",
    "y_pred = RF.predict(X_transformed_test) \n",
    "print(accuracy_score(y_test, y_pred))"
   ]
  },
  {
   "cell_type": "code",
   "execution_count": 91,
   "metadata": {},
   "outputs": [
    {
     "data": {
      "text/plain": [
       "0.6261499714326797"
      ]
     },
     "execution_count": 91,
     "metadata": {},
     "output_type": "execute_result"
    }
   ],
   "source": [
    "rf_cv_score = cross_val_score(RF, X, y, cv = 10)\n",
    "rf_cv_score.mean()"
   ]
  },
  {
   "cell_type": "markdown",
   "metadata": {},
   "source": [
    "#### K Nearest Neighbors"
   ]
  },
  {
   "cell_type": "code",
   "execution_count": 92,
   "metadata": {},
   "outputs": [],
   "source": [
    "X_scaled = preprocessing.scale(X)"
   ]
  },
  {
   "cell_type": "code",
   "execution_count": 93,
   "metadata": {},
   "outputs": [],
   "source": [
    "X_scaled_train, X_scaled_test, y_train, y_test = train_test_split(X_scaled, y, test_size = 0.33, random_state = 273)"
   ]
  },
  {
   "cell_type": "code",
   "execution_count": 94,
   "metadata": {},
   "outputs": [],
   "source": [
    "errors = []\n",
    "for k in range(1, 26):\n",
    "    model = KNeighborsClassifier(n_neighbors = k)\n",
    "    model.fit(X_scaled_train, y_train)\n",
    "    pred_k = model.predict(X_scaled_test)\n",
    "    errors.append(np.mean(pred_k != y_test))"
   ]
  },
  {
   "cell_type": "code",
   "execution_count": 95,
   "metadata": {},
   "outputs": [
    {
     "data": {
      "text/plain": [
       "Text(0, 0.5, 'Error Rate')"
      ]
     },
     "execution_count": 95,
     "metadata": {},
     "output_type": "execute_result"
    },
    {
     "data": {
      "image/png": "[encoded data removed]",
      "text/plain": [
       "<Figure size 720x432 with 1 Axes>"
      ]
     },
     "metadata": {
      "needs_background": "light"
     },
     "output_type": "display_data"
    }
   ],
   "source": [
    "plt.figure(figsize=(10,6))\n",
    "plt.plot(range(1, 26), errors, color = \"blue\", linestyle = \"dashed\", marker = \"o\", markerfacecolor = \"red\", markersize=10)\n",
    "plt.title(\"Error Rate vs. K Value\")\n",
    "plt.xlabel(\"K\")\n",
    "plt.ylabel(\"Error Rate\")"
   ]
  },
  {
   "cell_type": "code",
   "execution_count": 96,
   "metadata": {},
   "outputs": [
    {
     "name": "stdout",
     "output_type": "stream",
     "text": [
      "0.6260032102728732\n"
     ]
    }
   ],
   "source": [
    "model = KNeighborsClassifier(n_neighbors = 13)\n",
    "model.fit(X_scaled_train, y_train)\n",
    "y_pred = model.predict(X_scaled_test)\n",
    "print(accuracy_score(y_test, y_pred))"
   ]
  },
  {
   "cell_type": "markdown",
   "metadata": {},
   "source": [
    "### Combine All Processing Steps"
   ]
  },
  {
   "cell_type": "code",
   "execution_count": 97,
   "metadata": {},
   "outputs": [],
   "source": [
    "X_process = data.copy()\n",
    "X_process.drop([\"n_non_stop_words\", \"n_non_stop_unique_tokens\", \"kw_avg_min\"], axis = 1, inplace = True)"
   ]
  },
  {
   "cell_type": "code",
   "execution_count": 98,
   "metadata": {},
   "outputs": [],
   "source": [
    "X_process = X_process[X_process[\"n_tokens_content\"] > 0]\n",
    "X_process.reset_index(inplace = True, drop = True)"
   ]
  },
  {
   "cell_type": "code",
   "execution_count": 99,
   "metadata": {},
   "outputs": [],
   "source": [
    "X_process = X_process[X_process[\"shares\"] < 2500]"
   ]
  },
  {
   "cell_type": "code",
   "execution_count": 100,
   "metadata": {},
   "outputs": [],
   "source": [
    "min_shares = X_process[\"shares\"].min() - 1\n",
    "shares_50 = X_process[\"shares\"].quantile(.50)\n",
    "max_shares = X_process[\"shares\"].max() + 1\n",
    "\n",
    "popularity = pd.cut(X_process[\"shares\"], bins = [min_shares, shares_50, max_shares], \n",
    "       labels = [\"Low\", \"High\"])\n",
    "\n",
    "X_process[\"Popularity\"] = popularity"
   ]
  },
  {
   "cell_type": "code",
   "execution_count": 101,
   "metadata": {},
   "outputs": [],
   "source": [
    "y = X_process[\"Popularity\"]\n",
    "X = X_process.iloc[:, 0:-4]"
   ]
  },
  {
   "cell_type": "code",
   "execution_count": 102,
   "metadata": {},
   "outputs": [],
   "source": [
    "X_transformed_train, X_transformed_test, y_train, y_test = train_test_split(X, y, test_size = 0.33, random_state = 273)"
   ]
  },
  {
   "cell_type": "code",
   "execution_count": 103,
   "metadata": {},
   "outputs": [],
   "source": [
    "mutual_info = mutual_info_classif\n",
    "info = mutual_info(X_transformed_train, y_train)\n",
    "info_dict = dict(list(enumerate(info)))\n",
    "values = sorted(info_dict.values(), reverse = True)"
   ]
  },
  {
   "cell_type": "code",
   "execution_count": 104,
   "metadata": {},
   "outputs": [
    {
     "data": {
      "text/html": [
       "<div>\n",
       "<style scoped>\n",
       "    .dataframe tbody tr th:only-of-type {\n",
       "        vertical-align: middle;\n",
       "    }\n",
       "\n",
       "    .dataframe tbody tr th {\n",
       "        vertical-align: top;\n",
       "    }\n",
       "\n",
       "    .dataframe thead th {\n",
       "        text-align: right;\n",
       "    }\n",
       "</style>\n",
       "<table border=\"1\" class=\"dataframe\">\n",
       "  <thead>\n",
       "    <tr style=\"text-align: right;\">\n",
       "      <th></th>\n",
       "      <th>variable</th>\n",
       "      <th>info_gain</th>\n",
       "    </tr>\n",
       "  </thead>\n",
       "  <tbody>\n",
       "    <tr>\n",
       "      <th>21</th>\n",
       "      <td>kw_max_avg</td>\n",
       "      <td>0.025629</td>\n",
       "    </tr>\n",
       "    <tr>\n",
       "      <th>36</th>\n",
       "      <td>LDA_02</td>\n",
       "      <td>0.020474</td>\n",
       "    </tr>\n",
       "    <tr>\n",
       "      <th>16</th>\n",
       "      <td>kw_max_min</td>\n",
       "      <td>0.018406</td>\n",
       "    </tr>\n",
       "    <tr>\n",
       "      <th>35</th>\n",
       "      <td>LDA_01</td>\n",
       "      <td>0.016804</td>\n",
       "    </tr>\n",
       "    <tr>\n",
       "      <th>38</th>\n",
       "      <td>LDA_04</td>\n",
       "      <td>0.015980</td>\n",
       "    </tr>\n",
       "    <tr>\n",
       "      <th>24</th>\n",
       "      <td>self_reference_max_shares</td>\n",
       "      <td>0.015464</td>\n",
       "    </tr>\n",
       "    <tr>\n",
       "      <th>37</th>\n",
       "      <td>LDA_03</td>\n",
       "      <td>0.014927</td>\n",
       "    </tr>\n",
       "    <tr>\n",
       "      <th>33</th>\n",
       "      <td>is_weekend</td>\n",
       "      <td>0.014885</td>\n",
       "    </tr>\n",
       "    <tr>\n",
       "      <th>34</th>\n",
       "      <td>LDA_00</td>\n",
       "      <td>0.014553</td>\n",
       "    </tr>\n",
       "    <tr>\n",
       "      <th>25</th>\n",
       "      <td>self_reference_avg_sharess</td>\n",
       "      <td>0.013753</td>\n",
       "    </tr>\n",
       "    <tr>\n",
       "      <th>40</th>\n",
       "      <td>global_sentiment_polarity</td>\n",
       "      <td>0.012148</td>\n",
       "    </tr>\n",
       "    <tr>\n",
       "      <th>23</th>\n",
       "      <td>self_reference_min_shares</td>\n",
       "      <td>0.010505</td>\n",
       "    </tr>\n",
       "    <tr>\n",
       "      <th>22</th>\n",
       "      <td>kw_avg_avg</td>\n",
       "      <td>0.009475</td>\n",
       "    </tr>\n",
       "    <tr>\n",
       "      <th>13</th>\n",
       "      <td>data_channel_is_tech</td>\n",
       "      <td>0.008874</td>\n",
       "    </tr>\n",
       "    <tr>\n",
       "      <th>12</th>\n",
       "      <td>data_channel_is_socmed</td>\n",
       "      <td>0.008648</td>\n",
       "    </tr>\n",
       "    <tr>\n",
       "      <th>44</th>\n",
       "      <td>rate_negative_words</td>\n",
       "      <td>0.008459</td>\n",
       "    </tr>\n",
       "    <tr>\n",
       "      <th>18</th>\n",
       "      <td>kw_max_max</td>\n",
       "      <td>0.008381</td>\n",
       "    </tr>\n",
       "    <tr>\n",
       "      <th>17</th>\n",
       "      <td>kw_min_max</td>\n",
       "      <td>0.007721</td>\n",
       "    </tr>\n",
       "    <tr>\n",
       "      <th>14</th>\n",
       "      <td>data_channel_is_world</td>\n",
       "      <td>0.007681</td>\n",
       "    </tr>\n",
       "    <tr>\n",
       "      <th>51</th>\n",
       "      <td>title_subjectivity</td>\n",
       "      <td>0.007524</td>\n",
       "    </tr>\n",
       "  </tbody>\n",
       "</table>\n",
       "</div>"
      ],
      "text/plain": [
       "                      variable  info_gain\n",
       "21                  kw_max_avg   0.025629\n",
       "36                      LDA_02   0.020474\n",
       "16                  kw_max_min   0.018406\n",
       "35                      LDA_01   0.016804\n",
       "38                      LDA_04   0.015980\n",
       "24   self_reference_max_shares   0.015464\n",
       "37                      LDA_03   0.014927\n",
       "33                  is_weekend   0.014885\n",
       "34                      LDA_00   0.014553\n",
       "25  self_reference_avg_sharess   0.013753\n",
       "40   global_sentiment_polarity   0.012148\n",
       "23   self_reference_min_shares   0.010505\n",
       "22                  kw_avg_avg   0.009475\n",
       "13        data_channel_is_tech   0.008874\n",
       "12      data_channel_is_socmed   0.008648\n",
       "44         rate_negative_words   0.008459\n",
       "18                  kw_max_max   0.008381\n",
       "17                  kw_min_max   0.007721\n",
       "14       data_channel_is_world   0.007681\n",
       "51          title_subjectivity   0.007524"
      ]
     },
     "execution_count": 104,
     "metadata": {},
     "output_type": "execute_result"
    }
   ],
   "source": [
    "info_gain = pd.DataFrame(info_dict, index = [0]).transpose()\n",
    "info_gain.columns = [\"info_gain\"]\n",
    "info_gain[\"variable\"] = list(X.columns)\n",
    "info_gain = info_gain.iloc[:, [-1,0]].sort_values(by = \"info_gain\", ascending = False)\n",
    "info_gain.head(20)"
   ]
  },
  {
   "cell_type": "code",
   "execution_count": 105,
   "metadata": {},
   "outputs": [],
   "source": [
    "top_12 = list(info_gain[0:12].index)"
   ]
  },
  {
   "cell_type": "code",
   "execution_count": 106,
   "metadata": {},
   "outputs": [],
   "source": [
    "X = X.iloc[:, top_12]"
   ]
  },
  {
   "cell_type": "code",
   "execution_count": 107,
   "metadata": {},
   "outputs": [
    {
     "data": {
      "text/html": [
       "<div>\n",
       "<style scoped>\n",
       "    .dataframe tbody tr th:only-of-type {\n",
       "        vertical-align: middle;\n",
       "    }\n",
       "\n",
       "    .dataframe tbody tr th {\n",
       "        vertical-align: top;\n",
       "    }\n",
       "\n",
       "    .dataframe thead th {\n",
       "        text-align: right;\n",
       "    }\n",
       "</style>\n",
       "<table border=\"1\" class=\"dataframe\">\n",
       "  <thead>\n",
       "    <tr style=\"text-align: right;\">\n",
       "      <th></th>\n",
       "      <th>kw_max_avg</th>\n",
       "      <th>LDA_02</th>\n",
       "      <th>kw_max_min</th>\n",
       "      <th>LDA_01</th>\n",
       "      <th>LDA_04</th>\n",
       "      <th>self_reference_max_shares</th>\n",
       "      <th>LDA_03</th>\n",
       "      <th>is_weekend</th>\n",
       "      <th>LDA_00</th>\n",
       "      <th>self_reference_avg_sharess</th>\n",
       "      <th>global_sentiment_polarity</th>\n",
       "      <th>self_reference_min_shares</th>\n",
       "    </tr>\n",
       "  </thead>\n",
       "  <tbody>\n",
       "    <tr>\n",
       "      <th>0</th>\n",
       "      <td>0.0</td>\n",
       "      <td>0.040005</td>\n",
       "      <td>0.0</td>\n",
       "      <td>0.378279</td>\n",
       "      <td>0.040123</td>\n",
       "      <td>496.0</td>\n",
       "      <td>0.041263</td>\n",
       "      <td>0.0</td>\n",
       "      <td>0.500331</td>\n",
       "      <td>496.000000</td>\n",
       "      <td>0.092562</td>\n",
       "      <td>496.0</td>\n",
       "    </tr>\n",
       "    <tr>\n",
       "      <th>1</th>\n",
       "      <td>0.0</td>\n",
       "      <td>0.050096</td>\n",
       "      <td>0.0</td>\n",
       "      <td>0.050047</td>\n",
       "      <td>0.050001</td>\n",
       "      <td>0.0</td>\n",
       "      <td>0.050101</td>\n",
       "      <td>0.0</td>\n",
       "      <td>0.799756</td>\n",
       "      <td>0.000000</td>\n",
       "      <td>0.148948</td>\n",
       "      <td>0.0</td>\n",
       "    </tr>\n",
       "    <tr>\n",
       "      <th>2</th>\n",
       "      <td>0.0</td>\n",
       "      <td>0.033351</td>\n",
       "      <td>0.0</td>\n",
       "      <td>0.033334</td>\n",
       "      <td>0.682188</td>\n",
       "      <td>918.0</td>\n",
       "      <td>0.033334</td>\n",
       "      <td>0.0</td>\n",
       "      <td>0.217792</td>\n",
       "      <td>918.000000</td>\n",
       "      <td>0.323333</td>\n",
       "      <td>918.0</td>\n",
       "    </tr>\n",
       "    <tr>\n",
       "      <th>3</th>\n",
       "      <td>0.0</td>\n",
       "      <td>0.494651</td>\n",
       "      <td>0.0</td>\n",
       "      <td>0.419300</td>\n",
       "      <td>0.028572</td>\n",
       "      <td>0.0</td>\n",
       "      <td>0.028905</td>\n",
       "      <td>0.0</td>\n",
       "      <td>0.028573</td>\n",
       "      <td>0.000000</td>\n",
       "      <td>0.100705</td>\n",
       "      <td>0.0</td>\n",
       "    </tr>\n",
       "    <tr>\n",
       "      <th>4</th>\n",
       "      <td>0.0</td>\n",
       "      <td>0.028575</td>\n",
       "      <td>0.0</td>\n",
       "      <td>0.028794</td>\n",
       "      <td>0.885427</td>\n",
       "      <td>16000.0</td>\n",
       "      <td>0.028572</td>\n",
       "      <td>0.0</td>\n",
       "      <td>0.028633</td>\n",
       "      <td>3151.157895</td>\n",
       "      <td>0.281003</td>\n",
       "      <td>545.0</td>\n",
       "    </tr>\n",
       "  </tbody>\n",
       "</table>\n",
       "</div>"
      ],
      "text/plain": [
       "   kw_max_avg    LDA_02  kw_max_min    LDA_01    LDA_04  \\\n",
       "0         0.0  0.040005         0.0  0.378279  0.040123   \n",
       "1         0.0  0.050096         0.0  0.050047  0.050001   \n",
       "2         0.0  0.033351         0.0  0.033334  0.682188   \n",
       "3         0.0  0.494651         0.0  0.419300  0.028572   \n",
       "4         0.0  0.028575         0.0  0.028794  0.885427   \n",
       "\n",
       "   self_reference_max_shares    LDA_03  is_weekend    LDA_00  \\\n",
       "0                      496.0  0.041263         0.0  0.500331   \n",
       "1                        0.0  0.050101         0.0  0.799756   \n",
       "2                      918.0  0.033334         0.0  0.217792   \n",
       "3                        0.0  0.028905         0.0  0.028573   \n",
       "4                    16000.0  0.028572         0.0  0.028633   \n",
       "\n",
       "   self_reference_avg_sharess  global_sentiment_polarity  \\\n",
       "0                  496.000000                   0.092562   \n",
       "1                    0.000000                   0.148948   \n",
       "2                  918.000000                   0.323333   \n",
       "3                    0.000000                   0.100705   \n",
       "4                 3151.157895                   0.281003   \n",
       "\n",
       "   self_reference_min_shares  \n",
       "0                      496.0  \n",
       "1                        0.0  \n",
       "2                      918.0  \n",
       "3                        0.0  \n",
       "4                      545.0  "
      ]
     },
     "execution_count": 107,
     "metadata": {},
     "output_type": "execute_result"
    }
   ],
   "source": [
    "X.head()"
   ]
  },
  {
   "cell_type": "code",
   "execution_count": 108,
   "metadata": {},
   "outputs": [],
   "source": [
    "X_transformed_train, X_transformed_test, y_train, y_test = train_test_split(X, y, test_size = 0.33, random_state = 273)"
   ]
  },
  {
   "cell_type": "markdown",
   "metadata": {},
   "source": [
    "#### Naive Bayes"
   ]
  },
  {
   "cell_type": "code",
   "execution_count": 109,
   "metadata": {},
   "outputs": [
    {
     "name": "stdout",
     "output_type": "stream",
     "text": [
      "0.566798505822896\n"
     ]
    }
   ],
   "source": [
    "BNB = BernoulliNB()\n",
    "\n",
    "BNB.fit(X_transformed_train, y_train)\n",
    "y_pred = BNB.predict(X_transformed_test)\n",
    "print(accuracy_score(y_test, y_pred))"
   ]
  },
  {
   "cell_type": "code",
   "execution_count": 110,
   "metadata": {},
   "outputs": [
    {
     "data": {
      "text/plain": [
       "0.5647208121827411"
      ]
     },
     "execution_count": 110,
     "metadata": {},
     "output_type": "execute_result"
    }
   ],
   "source": [
    "naive_bayes_cv_score = cross_val_score(BNB, X, y, cv = 10)\n",
    "naive_bayes_cv_score.mean()"
   ]
  },
  {
   "cell_type": "markdown",
   "metadata": {},
   "source": [
    "#### Random Forest"
   ]
  },
  {
   "cell_type": "code",
   "execution_count": 111,
   "metadata": {},
   "outputs": [
    {
     "name": "stdout",
     "output_type": "stream",
     "text": [
      "0.6163480553724456\n"
     ]
    }
   ],
   "source": [
    "RF = RandomForestClassifier(n_estimators = 100, random_state = 273) \n",
    "\n",
    "RF.fit(X_transformed_train, y_train)\n",
    "\n",
    "y_pred = RF.predict(X_transformed_test) \n",
    "print(accuracy_score(y_test, y_pred))"
   ]
  },
  {
   "cell_type": "code",
   "execution_count": 112,
   "metadata": {},
   "outputs": [
    {
     "data": {
      "text/plain": [
       "0.6021392313270485"
      ]
     },
     "execution_count": 112,
     "metadata": {},
     "output_type": "execute_result"
    }
   ],
   "source": [
    "rf_cv_score = cross_val_score(RF, X, y, cv = 10)\n",
    "rf_cv_score.mean()"
   ]
  },
  {
   "cell_type": "markdown",
   "metadata": {},
   "source": [
    "#### K Nearest Neighbors"
   ]
  },
  {
   "cell_type": "code",
   "execution_count": 113,
   "metadata": {},
   "outputs": [],
   "source": [
    "X_scaled = preprocessing.scale(X)"
   ]
  },
  {
   "cell_type": "code",
   "execution_count": 114,
   "metadata": {},
   "outputs": [
    {
     "data": {
      "text/html": [
       "<div>\n",
       "<style scoped>\n",
       "    .dataframe tbody tr th:only-of-type {\n",
       "        vertical-align: middle;\n",
       "    }\n",
       "\n",
       "    .dataframe tbody tr th {\n",
       "        vertical-align: top;\n",
       "    }\n",
       "\n",
       "    .dataframe thead th {\n",
       "        text-align: right;\n",
       "    }\n",
       "</style>\n",
       "<table border=\"1\" class=\"dataframe\">\n",
       "  <thead>\n",
       "    <tr style=\"text-align: right;\">\n",
       "      <th></th>\n",
       "      <th>0</th>\n",
       "      <th>1</th>\n",
       "      <th>2</th>\n",
       "      <th>3</th>\n",
       "      <th>4</th>\n",
       "      <th>5</th>\n",
       "      <th>6</th>\n",
       "      <th>7</th>\n",
       "      <th>8</th>\n",
       "      <th>9</th>\n",
       "      <th>10</th>\n",
       "      <th>11</th>\n",
       "    </tr>\n",
       "  </thead>\n",
       "  <tbody>\n",
       "    <tr>\n",
       "      <th>0</th>\n",
       "      <td>-0.958906</td>\n",
       "      <td>-0.676135</td>\n",
       "      <td>-0.298572</td>\n",
       "      <td>1.017012</td>\n",
       "      <td>-0.671105</td>\n",
       "      <td>-0.229290</td>\n",
       "      <td>-0.559617</td>\n",
       "      <td>-0.35255</td>\n",
       "      <td>1.226415</td>\n",
       "      <td>-0.225565</td>\n",
       "      <td>-0.287451</td>\n",
       "      <td>-0.158008</td>\n",
       "    </tr>\n",
       "    <tr>\n",
       "      <th>1</th>\n",
       "      <td>-0.958906</td>\n",
       "      <td>-0.642224</td>\n",
       "      <td>-0.298572</td>\n",
       "      <td>-0.429571</td>\n",
       "      <td>-0.636597</td>\n",
       "      <td>-0.242676</td>\n",
       "      <td>-0.527907</td>\n",
       "      <td>-0.35255</td>\n",
       "      <td>2.379275</td>\n",
       "      <td>-0.247937</td>\n",
       "      <td>0.302176</td>\n",
       "      <td>-0.185080</td>\n",
       "    </tr>\n",
       "    <tr>\n",
       "      <th>2</th>\n",
       "      <td>-0.958906</td>\n",
       "      <td>-0.698492</td>\n",
       "      <td>-0.298572</td>\n",
       "      <td>-0.503225</td>\n",
       "      <td>1.571880</td>\n",
       "      <td>-0.217900</td>\n",
       "      <td>-0.588067</td>\n",
       "      <td>-0.35255</td>\n",
       "      <td>0.138569</td>\n",
       "      <td>-0.206530</td>\n",
       "      <td>2.125728</td>\n",
       "      <td>-0.134974</td>\n",
       "    </tr>\n",
       "    <tr>\n",
       "      <th>3</th>\n",
       "      <td>-0.958906</td>\n",
       "      <td>0.851614</td>\n",
       "      <td>-0.298572</td>\n",
       "      <td>1.197798</td>\n",
       "      <td>-0.711457</td>\n",
       "      <td>-0.242676</td>\n",
       "      <td>-0.603957</td>\n",
       "      <td>-0.35255</td>\n",
       "      <td>-0.589972</td>\n",
       "      <td>-0.247937</td>\n",
       "      <td>-0.202303</td>\n",
       "      <td>-0.185080</td>\n",
       "    </tr>\n",
       "    <tr>\n",
       "      <th>4</th>\n",
       "      <td>-0.958906</td>\n",
       "      <td>-0.714542</td>\n",
       "      <td>-0.298572</td>\n",
       "      <td>-0.523238</td>\n",
       "      <td>2.281871</td>\n",
       "      <td>0.189151</td>\n",
       "      <td>-0.605152</td>\n",
       "      <td>-0.35255</td>\n",
       "      <td>-0.589742</td>\n",
       "      <td>-0.105803</td>\n",
       "      <td>1.683084</td>\n",
       "      <td>-0.155333</td>\n",
       "    </tr>\n",
       "    <tr>\n",
       "      <th>...</th>\n",
       "      <td>...</td>\n",
       "      <td>...</td>\n",
       "      <td>...</td>\n",
       "      <td>...</td>\n",
       "      <td>...</td>\n",
       "      <td>...</td>\n",
       "      <td>...</td>\n",
       "      <td>...</td>\n",
       "      <td>...</td>\n",
       "      <td>...</td>\n",
       "      <td>...</td>\n",
       "      <td>...</td>\n",
       "    </tr>\n",
       "    <tr>\n",
       "      <th>27575</th>\n",
       "      <td>-0.230506</td>\n",
       "      <td>-0.300801</td>\n",
       "      <td>-0.114578</td>\n",
       "      <td>-0.539954</td>\n",
       "      <td>1.890030</td>\n",
       "      <td>1.052804</td>\n",
       "      <td>-0.617967</td>\n",
       "      <td>-0.35255</td>\n",
       "      <td>-0.603584</td>\n",
       "      <td>1.422462</td>\n",
       "      <td>0.229149</td>\n",
       "      <td>0.437158</td>\n",
       "    </tr>\n",
       "    <tr>\n",
       "      <th>27576</th>\n",
       "      <td>0.036131</td>\n",
       "      <td>-0.031423</td>\n",
       "      <td>-0.129660</td>\n",
       "      <td>-0.524201</td>\n",
       "      <td>-0.711444</td>\n",
       "      <td>-0.185999</td>\n",
       "      <td>1.738016</td>\n",
       "      <td>-0.35255</td>\n",
       "      <td>-0.586986</td>\n",
       "      <td>-0.153216</td>\n",
       "      <td>0.775895</td>\n",
       "      <td>-0.070457</td>\n",
       "    </tr>\n",
       "    <tr>\n",
       "      <th>27577</th>\n",
       "      <td>0.292708</td>\n",
       "      <td>-0.725859</td>\n",
       "      <td>-0.109094</td>\n",
       "      <td>-0.539848</td>\n",
       "      <td>-0.297846</td>\n",
       "      <td>-0.204891</td>\n",
       "      <td>1.602243</td>\n",
       "      <td>-0.35255</td>\n",
       "      <td>-0.087778</td>\n",
       "      <td>-0.184789</td>\n",
       "      <td>-0.998041</td>\n",
       "      <td>-0.108665</td>\n",
       "    </tr>\n",
       "    <tr>\n",
       "      <th>27578</th>\n",
       "      <td>-0.343291</td>\n",
       "      <td>2.012049</td>\n",
       "      <td>-0.298572</td>\n",
       "      <td>-0.473833</td>\n",
       "      <td>-0.671521</td>\n",
       "      <td>-0.230477</td>\n",
       "      <td>-0.564140</td>\n",
       "      <td>-0.35255</td>\n",
       "      <td>-0.545962</td>\n",
       "      <td>-0.227549</td>\n",
       "      <td>-1.339718</td>\n",
       "      <td>-0.160409</td>\n",
       "    </tr>\n",
       "    <tr>\n",
       "      <th>27579</th>\n",
       "      <td>-0.301599</td>\n",
       "      <td>-0.642546</td>\n",
       "      <td>-0.271974</td>\n",
       "      <td>2.872705</td>\n",
       "      <td>-0.636597</td>\n",
       "      <td>-0.185999</td>\n",
       "      <td>-0.525905</td>\n",
       "      <td>-0.35255</td>\n",
       "      <td>-0.507468</td>\n",
       "      <td>-0.153216</td>\n",
       "      <td>-0.158518</td>\n",
       "      <td>-0.070457</td>\n",
       "    </tr>\n",
       "  </tbody>\n",
       "</table>\n",
       "<p>27580 rows × 12 columns</p>\n",
       "</div>"
      ],
      "text/plain": [
       "             0         1         2         3         4         5         6   \\\n",
       "0     -0.958906 -0.676135 -0.298572  1.017012 -0.671105 -0.229290 -0.559617   \n",
       "1     -0.958906 -0.642224 -0.298572 -0.429571 -0.636597 -0.242676 -0.527907   \n",
       "2     -0.958906 -0.698492 -0.298572 -0.503225  1.571880 -0.217900 -0.588067   \n",
       "3     -0.958906  0.851614 -0.298572  1.197798 -0.711457 -0.242676 -0.603957   \n",
       "4     -0.958906 -0.714542 -0.298572 -0.523238  2.281871  0.189151 -0.605152   \n",
       "...         ...       ...       ...       ...       ...       ...       ...   \n",
       "27575 -0.230506 -0.300801 -0.114578 -0.539954  1.890030  1.052804 -0.617967   \n",
       "27576  0.036131 -0.031423 -0.129660 -0.524201 -0.711444 -0.185999  1.738016   \n",
       "27577  0.292708 -0.725859 -0.109094 -0.539848 -0.297846 -0.204891  1.602243   \n",
       "27578 -0.343291  2.012049 -0.298572 -0.473833 -0.671521 -0.230477 -0.564140   \n",
       "27579 -0.301599 -0.642546 -0.271974  2.872705 -0.636597 -0.185999 -0.525905   \n",
       "\n",
       "            7         8         9         10        11  \n",
       "0     -0.35255  1.226415 -0.225565 -0.287451 -0.158008  \n",
       "1     -0.35255  2.379275 -0.247937  0.302176 -0.185080  \n",
       "2     -0.35255  0.138569 -0.206530  2.125728 -0.134974  \n",
       "3     -0.35255 -0.589972 -0.247937 -0.202303 -0.185080  \n",
       "4     -0.35255 -0.589742 -0.105803  1.683084 -0.155333  \n",
       "...        ...       ...       ...       ...       ...  \n",
       "27575 -0.35255 -0.603584  1.422462  0.229149  0.437158  \n",
       "27576 -0.35255 -0.586986 -0.153216  0.775895 -0.070457  \n",
       "27577 -0.35255 -0.087778 -0.184789 -0.998041 -0.108665  \n",
       "27578 -0.35255 -0.545962 -0.227549 -1.339718 -0.160409  \n",
       "27579 -0.35255 -0.507468 -0.153216 -0.158518 -0.070457  \n",
       "\n",
       "[27580 rows x 12 columns]"
      ]
     },
     "execution_count": 114,
     "metadata": {},
     "output_type": "execute_result"
    }
   ],
   "source": [
    "pd.DataFrame(X_scaled)"
   ]
  },
  {
   "cell_type": "code",
   "execution_count": 115,
   "metadata": {},
   "outputs": [],
   "source": [
    "X_scaled_train, X_scaled_test, y_train, y_test = train_test_split(X_scaled, y, test_size = 0.33, random_state = 273)"
   ]
  },
  {
   "cell_type": "code",
   "execution_count": 116,
   "metadata": {},
   "outputs": [],
   "source": [
    "errors = []\n",
    "for k in range(1, 26):\n",
    "    model = KNeighborsClassifier(n_neighbors = k)\n",
    "    model.fit(X_scaled_train, y_train)\n",
    "    pred_k = model.predict(X_scaled_test)\n",
    "    errors.append(np.mean(pred_k != y_test))"
   ]
  },
  {
   "cell_type": "code",
   "execution_count": 117,
   "metadata": {},
   "outputs": [
    {
     "data": {
      "text/plain": [
       "Text(0, 0.5, 'Error Rate')"
      ]
     },
     "execution_count": 117,
     "metadata": {},
     "output_type": "execute_result"
    },
    {
     "data": {
      "image/png": "[encoded data removed]",
      "text/plain": [
       "<Figure size 720x432 with 1 Axes>"
      ]
     },
     "metadata": {
      "needs_background": "light"
     },
     "output_type": "display_data"
    }
   ],
   "source": [
    "plt.figure(figsize=(10,6))\n",
    "plt.plot(range(1, 26), errors, color = \"blue\", linestyle = \"dashed\", marker = \"o\", markerfacecolor = \"red\", markersize=10)\n",
    "plt.title(\"Error Rate vs. K Value\")\n",
    "plt.xlabel(\"K\")\n",
    "plt.ylabel(\"Error Rate\")"
   ]
  },
  {
   "cell_type": "code",
   "execution_count": null,
   "metadata": {},
   "outputs": [],
   "source": [
    "model = KNeighborsClassifier(n_neighbors = 9)\n",
    "model.fit(X_scaled_train, y_train)\n",
    "y_pred = model.predict(X_scaled_test)\n",
    "print(accuracy_score(y_test, y_pred))"
   ]
  },
  {
   "cell_type": "code",
   "execution_count": null,
   "metadata": {},
   "outputs": [],
   "source": []
  }
 ],
 "metadata": {
  "kernelspec": {
   "display_name": "Python 3",
   "language": "python",
   "name": "python3"
  },
  "language_info": {
   "codemirror_mode": {
    "name": "ipython",
    "version": 3
   },
   "file_extension": ".py",
   "mimetype": "text/x-python",
   "name": "python",
   "nbconvert_exporter": "python",
   "pygments_lexer": "ipython3",
   "version": "3.8.5"
  }
 },
 "nbformat": 4,
 "nbformat_minor": 4
}
